{
 "cells": [
  {
   "cell_type": "code",
   "execution_count": 3,
   "id": "7997b557",
   "metadata": {},
   "outputs": [],
   "source": [
    "x=\"arun\"\n",
    "y=\"shetty\"\n",
    "z=(x[0]+' '+y)\n",
    "\n"
   ]
  },
  {
   "cell_type": "code",
   "execution_count": 4,
   "id": "2cb0b4c8",
   "metadata": {},
   "outputs": [
    {
     "name": "stdout",
     "output_type": "stream",
     "text": [
      "a shetty\n"
     ]
    }
   ],
   "source": [
    "print(z)"
   ]
  },
  {
   "cell_type": "markdown",
   "id": "a41e2e7a",
   "metadata": {},
   "source": [
    "# taking input from user"
   ]
  },
  {
   "cell_type": "code",
   "execution_count": 13,
   "id": "39e6e991",
   "metadata": {},
   "outputs": [
    {
     "name": "stdout",
     "output_type": "stream",
     "text": [
      "Enter your name:shalu singh\n",
      "My name is shalu singh\n"
     ]
    }
   ],
   "source": [
    "a= input(\"Enter your name:\")\n",
    "print(\"My name is \"+a)"
   ]
  },
  {
   "cell_type": "code",
   "execution_count": 14,
   "id": "aff03a08",
   "metadata": {},
   "outputs": [
    {
     "name": "stdout",
     "output_type": "stream",
     "text": [
      "Enter your age18\n",
      "shalu singhis18years old\n"
     ]
    }
   ],
   "source": [
    "b= int(input(\"Enter your age\"))\n",
    "print(a + \"is\"+ str(b)+ \"years old\")"
   ]
  },
  {
   "cell_type": "code",
   "execution_count": 15,
   "id": "04813db9",
   "metadata": {},
   "outputs": [
    {
     "name": "stdout",
     "output_type": "stream",
     "text": [
      "shalu singh is 18 years old\n"
     ]
    }
   ],
   "source": [
    "print(f\"{a} is {b} years old\")"
   ]
  },
  {
   "cell_type": "code",
   "execution_count": 16,
   "id": "8a4429d4",
   "metadata": {},
   "outputs": [],
   "source": [
    "#dot format pdh k ana h\n"
   ]
  },
  {
   "cell_type": "code",
   "execution_count": 17,
   "id": "8457334b",
   "metadata": {},
   "outputs": [
    {
     "name": "stdout",
     "output_type": "stream",
     "text": [
      "s.singh is18 years old\n"
     ]
    }
   ],
   "source": [
    "first,last = a.split()\n",
    "print(f\"{first[0]+'.'+last} is{b} years old\")"
   ]
  },
  {
   "cell_type": "code",
   "execution_count": 26,
   "id": "fe3d7ee5",
   "metadata": {},
   "outputs": [
    {
     "name": "stdout",
     "output_type": "stream",
     "text": [
      "Enter your name:SHALU   SINGH\n"
     ]
    }
   ],
   "source": [
    "name = input(\"Enter your name:\")\n"
   ]
  },
  {
   "cell_type": "code",
   "execution_count": 27,
   "id": "8064974a",
   "metadata": {},
   "outputs": [
    {
     "name": "stdout",
     "output_type": "stream",
     "text": [
      "Shalu   Singh\n",
      "SHALU   SINGH\n",
      "shalu   singh\n",
      "SHALU   SINGH\n"
     ]
    }
   ],
   "source": [
    "print(name.title())\n",
    "print(name.strip())\n",
    "print(name.lower())\n",
    "print(name.upper())\n",
    "#print(name.center(0))"
   ]
  },
  {
   "cell_type": "code",
   "execution_count": 28,
   "id": "c6cb3c02",
   "metadata": {},
   "outputs": [
    {
     "name": "stdout",
     "output_type": "stream",
     "text": [
      "13\n",
      "<class 'str'>\n"
     ]
    }
   ],
   "source": [
    "print(len(name))\n",
    "print(type(name))"
   ]
  },
  {
   "cell_type": "code",
   "execution_count": 29,
   "id": "32532394",
   "metadata": {},
   "outputs": [
    {
     "name": "stdout",
     "output_type": "stream",
     "text": [
      "prashant kiet.edu\n"
     ]
    }
   ],
   "source": [
    "email=\"prashant@kiet.edu\"\n",
    "first,mail= email.split(\"@\")\n",
    "print(first,mail)"
   ]
  },
  {
   "cell_type": "code",
   "execution_count": 35,
   "id": "2180cc99",
   "metadata": {},
   "outputs": [
    {
     "name": "stdout",
     "output_type": "stream",
     "text": [
      "Enter number a:34\n",
      "Enter number b:56\n",
      "B is larger\n"
     ]
    }
   ],
   "source": [
    "a= int(input(\"Enter number a:\"))\n",
    "b = int(input(\"Enter number b:\"))\n",
    "if a>b:\n",
    "    print(\"A is larger\")\n",
    "else:\n",
    "    print(\"B is larger\")"
   ]
  },
  {
   "cell_type": "code",
   "execution_count": null,
   "id": "73035a07",
   "metadata": {},
   "outputs": [],
   "source": [
    "#prime number "
   ]
  }
 ],
 "metadata": {
  "kernelspec": {
   "display_name": "Python 3 (ipykernel)",
   "language": "python",
   "name": "python3"
  },
  "language_info": {
   "codemirror_mode": {
    "name": "ipython",
    "version": 3
   },
   "file_extension": ".py",
   "mimetype": "text/x-python",
   "name": "python",
   "nbconvert_exporter": "python",
   "pygments_lexer": "ipython3",
   "version": "3.11.5"
  }
 },
 "nbformat": 4,
 "nbformat_minor": 5
}
