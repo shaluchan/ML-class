{
 "cells": [
  {
   "cell_type": "code",
   "execution_count": 5,
   "id": "1d91e1b9",
   "metadata": {},
   "outputs": [],
   "source": [
    "a: str = \"Ayush\"\n",
    "b='Hello'"
   ]
  },
  {
   "cell_type": "code",
   "execution_count": 2,
   "id": "2d9bce6b",
   "metadata": {},
   "outputs": [
    {
     "data": {
      "text/plain": [
       "str"
      ]
     },
     "execution_count": 2,
     "metadata": {},
     "output_type": "execute_result"
    }
   ],
   "source": [
    "type(a)"
   ]
  },
  {
   "cell_type": "code",
   "execution_count": 3,
   "id": "dea78450",
   "metadata": {},
   "outputs": [
    {
     "data": {
      "text/plain": [
       "int"
      ]
     },
     "execution_count": 3,
     "metadata": {},
     "output_type": "execute_result"
    }
   ],
   "source": [
    "a=1\n",
    "type(a)"
   ]
  },
  {
   "cell_type": "code",
   "execution_count": 6,
   "id": "11eca226",
   "metadata": {},
   "outputs": [
    {
     "data": {
      "text/plain": [
       "str"
      ]
     },
     "execution_count": 6,
     "metadata": {},
     "output_type": "execute_result"
    }
   ],
   "source": [
    "type(b)"
   ]
  },
  {
   "cell_type": "code",
   "execution_count": 7,
   "id": "736a46b7",
   "metadata": {},
   "outputs": [],
   "source": [
    "#multiline strings\n",
    "multistr=\"\"\"this\n",
    "is a multi line strings\"\"\"\n"
   ]
  },
  {
   "cell_type": "code",
   "execution_count": 8,
   "id": "6db5238d",
   "metadata": {},
   "outputs": [
    {
     "name": "stdout",
     "output_type": "stream",
     "text": [
      "this\n",
      "is a multi line strings\n"
     ]
    }
   ],
   "source": [
    "print(multistr)"
   ]
  },
  {
   "cell_type": "code",
   "execution_count": 9,
   "id": "f8883464",
   "metadata": {},
   "outputs": [
    {
     "data": {
      "text/plain": [
       "'this\\nis a multi line strings'"
      ]
     },
     "execution_count": 9,
     "metadata": {},
     "output_type": "execute_result"
    }
   ],
   "source": [
    "multistr"
   ]
  },
  {
   "cell_type": "code",
   "execution_count": 10,
   "id": "e1c239b8",
   "metadata": {},
   "outputs": [],
   "source": [
    "x=\"\"\"a\n",
    "b c d\"\"\""
   ]
  },
  {
   "cell_type": "code",
   "execution_count": 11,
   "id": "81ef7bfd",
   "metadata": {},
   "outputs": [
    {
     "data": {
      "text/plain": [
       "'a\\nb c d'"
      ]
     },
     "execution_count": 11,
     "metadata": {},
     "output_type": "execute_result"
    }
   ],
   "source": [
    "x"
   ]
  },
  {
   "cell_type": "code",
   "execution_count": 12,
   "id": "6ec2fcde",
   "metadata": {},
   "outputs": [],
   "source": [
    "string = \"INNOGEEKS\""
   ]
  },
  {
   "cell_type": "code",
   "execution_count": 13,
   "id": "8ef009d1",
   "metadata": {},
   "outputs": [
    {
     "name": "stdout",
     "output_type": "stream",
     "text": [
      "I\n"
     ]
    }
   ],
   "source": [
    "print(string[0])"
   ]
  },
  {
   "cell_type": "code",
   "execution_count": 14,
   "id": "730f70b0",
   "metadata": {},
   "outputs": [
    {
     "name": "stdout",
     "output_type": "stream",
     "text": [
      "K\n"
     ]
    }
   ],
   "source": [
    "print(string[7])"
   ]
  },
  {
   "cell_type": "code",
   "execution_count": 15,
   "id": "d6211673",
   "metadata": {},
   "outputs": [
    {
     "name": "stdout",
     "output_type": "stream",
     "text": [
      "S\n"
     ]
    }
   ],
   "source": [
    "print(string[-1])"
   ]
  },
  {
   "cell_type": "code",
   "execution_count": 20,
   "id": "a5e4a688",
   "metadata": {},
   "outputs": [],
   "source": [
    "substring = string [0:0]"
   ]
  },
  {
   "cell_type": "code",
   "execution_count": 21,
   "id": "8c89a3a7",
   "metadata": {},
   "outputs": [
    {
     "data": {
      "text/plain": [
       "''"
      ]
     },
     "execution_count": 21,
     "metadata": {},
     "output_type": "execute_result"
    }
   ],
   "source": [
    "substring"
   ]
  },
  {
   "cell_type": "code",
   "execution_count": 22,
   "id": "ac4db64c",
   "metadata": {},
   "outputs": [
    {
     "name": "stdout",
     "output_type": "stream",
     "text": [
      "\n"
     ]
    }
   ],
   "source": [
    "print(substring)"
   ]
  },
  {
   "cell_type": "code",
   "execution_count": 23,
   "id": "893c5381",
   "metadata": {},
   "outputs": [
    {
     "data": {
      "text/plain": [
       "''"
      ]
     },
     "execution_count": 23,
     "metadata": {},
     "output_type": "execute_result"
    }
   ],
   "source": [
    "substring = string [7:-2]\n",
    "substring"
   ]
  },
  {
   "cell_type": "code",
   "execution_count": 26,
   "id": "98e4aff9",
   "metadata": {},
   "outputs": [],
   "source": [
    "substring = string [6:2]"
   ]
  },
  {
   "cell_type": "code",
   "execution_count": 27,
   "id": "c0e707bb",
   "metadata": {},
   "outputs": [
    {
     "data": {
      "text/plain": [
       "''"
      ]
     },
     "execution_count": 27,
     "metadata": {},
     "output_type": "execute_result"
    }
   ],
   "source": [
    "substring"
   ]
  },
  {
   "cell_type": "code",
   "execution_count": 28,
   "id": "db1d4c05",
   "metadata": {},
   "outputs": [
    {
     "data": {
      "text/plain": [
       "' substring = string[ start: stop : step] '"
      ]
     },
     "execution_count": 28,
     "metadata": {},
     "output_type": "execute_result"
    }
   ],
   "source": [
    "\"\"\" substring = string[ start: stop : step] \"\"\"\n"
   ]
  },
  {
   "cell_type": "code",
   "execution_count": 30,
   "id": "0702d353",
   "metadata": {},
   "outputs": [
    {
     "data": {
      "text/plain": [
       "'INNOGEEKS'"
      ]
     },
     "execution_count": 30,
     "metadata": {},
     "output_type": "execute_result"
    }
   ],
   "source": [
    "substring = string [::]\n",
    "substring"
   ]
  },
  {
   "cell_type": "code",
   "execution_count": 33,
   "id": "ed4d7057",
   "metadata": {},
   "outputs": [
    {
     "data": {
      "text/plain": [
       "'NOE'"
      ]
     },
     "execution_count": 33,
     "metadata": {},
     "output_type": "execute_result"
    }
   ],
   "source": [
    "substring = string [ 1:6:2]\n",
    "substring"
   ]
  },
  {
   "cell_type": "code",
   "execution_count": null,
   "id": "e5503407",
   "metadata": {},
   "outputs": [],
   "source": [
    "\n"
   ]
  },
  {
   "cell_type": "code",
   "execution_count": null,
   "id": "8b1925ea",
   "metadata": {},
   "outputs": [],
   "source": []
  },
  {
   "cell_type": "code",
   "execution_count": null,
   "id": "3e597123",
   "metadata": {},
   "outputs": [],
   "source": []
  }
 ],
 "metadata": {
  "kernelspec": {
   "display_name": "Python 3 (ipykernel)",
   "language": "python",
   "name": "python3"
  },
  "language_info": {
   "codemirror_mode": {
    "name": "ipython",
    "version": 3
   },
   "file_extension": ".py",
   "mimetype": "text/x-python",
   "name": "python",
   "nbconvert_exporter": "python",
   "pygments_lexer": "ipython3",
   "version": "3.11.5"
  }
 },
 "nbformat": 4,
 "nbformat_minor": 5
}
