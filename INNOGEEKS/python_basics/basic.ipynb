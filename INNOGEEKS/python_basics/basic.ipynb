{
 "cells": [
  {
   "cell_type": "code",
   "execution_count": 1,
   "id": "7997b557",
   "metadata": {},
   "outputs": [],
   "source": [
    "x=\"arun\"\n",
    "y=\"shetty\"\n",
    "z=(x[0]+' '+y)\n",
    "\n"
   ]
  },
  {
   "cell_type": "code",
   "execution_count": 2,
   "id": "2cb0b4c8",
   "metadata": {},
   "outputs": [
    {
     "name": "stdout",
     "output_type": "stream",
     "text": [
      "a shetty\n"
     ]
    }
   ],
   "source": [
    "print(z)"
   ]
  },
  {
   "cell_type": "markdown",
   "id": "a41e2e7a",
   "metadata": {},
   "source": [
    "# taking input from user"
   ]
  },
  {
   "cell_type": "code",
   "execution_count": 9,
   "id": "39e6e991",
   "metadata": {},
   "outputs": [
    {
     "name": "stdin",
     "output_type": "stream",
     "text": [
      "Enter your name: Shalu Singh\n"
     ]
    },
    {
     "name": "stdout",
     "output_type": "stream",
     "text": [
      "My name is Shalu Singh\n"
     ]
    }
   ],
   "source": [
    "a= input(\"Enter your name:\")\n",
    "print(\"My name is \"+a)"
   ]
  },
  {
   "cell_type": "code",
   "execution_count": 8,
   "id": "aff03a08",
   "metadata": {},
   "outputs": [
    {
     "name": "stdin",
     "output_type": "stream",
     "text": [
      "Enter your age 18\n"
     ]
    },
    {
     "name": "stdout",
     "output_type": "stream",
     "text": [
      "shaluis18years old\n"
     ]
    }
   ],
   "source": [
    "b= int(input(\"Enter your age\"))\n",
    "print(a + \"is\"+ str(b)+ \"years old\")"
   ]
  },
  {
   "cell_type": "code",
   "execution_count": 5,
   "id": "04813db9",
   "metadata": {},
   "outputs": [
    {
     "name": "stdout",
     "output_type": "stream",
     "text": [
      "shalu is 18 years old\n"
     ]
    }
   ],
   "source": [
    "print(f\"{a} is {b} years old\")"
   ]
  },
  {
   "cell_type": "code",
   "execution_count": 6,
   "id": "8a4429d4",
   "metadata": {},
   "outputs": [],
   "source": [
    "#dot format pdh k ana h\n"
   ]
  },
  {
   "cell_type": "code",
   "execution_count": 10,
   "id": "8457334b",
   "metadata": {},
   "outputs": [
    {
     "name": "stdout",
     "output_type": "stream",
     "text": [
      "S.Singh is18 years old\n"
     ]
    }
   ],
   "source": [
    "first,last = a.split()\n",
    "print(f\"{first[0]+'.'+last} is{b} years old\")"
   ]
  },
  {
   "cell_type": "code",
   "execution_count": null,
   "id": "fe3d7ee5",
   "metadata": {},
   "outputs": [],
   "source": [
    "name = input(\"Enter your name:\")\n"
   ]
  },
  {
   "cell_type": "code",
   "execution_count": null,
   "id": "8064974a",
   "metadata": {},
   "outputs": [],
   "source": [
    "print(name.title())\n",
    "print(name.strip())\n",
    "print(name.lower())\n",
    "print(name.upper())\n",
    "#print(name.center(0))"
   ]
  },
  {
   "cell_type": "code",
   "execution_count": null,
   "id": "c6cb3c02",
   "metadata": {},
   "outputs": [],
   "source": [
    "print(len(name))\n",
    "print(type(name))"
   ]
  },
  {
   "cell_type": "code",
   "execution_count": null,
   "id": "32532394",
   "metadata": {},
   "outputs": [],
   "source": [
    "email=\"prashant@kiet.edu\"\n",
    "first,mail= email.split(\"@\")\n",
    "print(first,mail)"
   ]
  },
  {
   "cell_type": "code",
   "execution_count": null,
   "id": "2180cc99",
   "metadata": {},
   "outputs": [],
   "source": [
    "a= int(input(\"Enter number a:\"))\n",
    "b = int(input(\"Enter number b:\"))\n",
    "if a>b:\n",
    "    print(\"A is larger\")\n",
    "else:\n",
    "    print(\"B is larger\")"
   ]
  },
  {
   "cell_type": "code",
   "execution_count": null,
   "id": "73035a07",
   "metadata": {},
   "outputs": [],
   "source": [
    "#prime number "
   ]
  }
 ],
 "metadata": {
  "kernelspec": {
   "display_name": "Python 3 (ipykernel)",
   "language": "python",
   "name": "python3"
  },
  "language_info": {
   "codemirror_mode": {
    "name": "ipython",
    "version": 3
   },
   "file_extension": ".py",
   "mimetype": "text/x-python",
   "name": "python",
   "nbconvert_exporter": "python",
   "pygments_lexer": "ipython3",
   "version": "3.11.6"
  }
 },
 "nbformat": 4,
 "nbformat_minor": 5
}
