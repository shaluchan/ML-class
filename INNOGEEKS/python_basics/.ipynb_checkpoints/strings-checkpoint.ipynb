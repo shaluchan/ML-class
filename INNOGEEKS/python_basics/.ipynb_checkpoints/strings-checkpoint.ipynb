{
 "cells": [
  {
   "cell_type": "code",
   "execution_count": 1,
   "id": "1d91e1b9",
   "metadata": {},
   "outputs": [],
   "source": [
    "#strings are sequence of characters.\n",
    "#strings are a sequence of unicode characters.unicode is an international encoding standards fot use with different languages.\n",
    "\n"
   ]
  },
  {
   "cell_type": "code",
   "execution_count": 9,
   "id": "087f2ab8-4f02-40f8-83f7-77cfdb668d57",
   "metadata": {},
   "outputs": [],
   "source": [
    "a: str = \"Ayush\"\n",
    "b='Hello'"
   ]
  },
  {
   "cell_type": "code",
   "execution_count": 10,
   "id": "2d9bce6b",
   "metadata": {},
   "outputs": [
    {
     "data": {
      "text/plain": [
       "str"
      ]
     },
     "execution_count": 10,
     "metadata": {},
     "output_type": "execute_result"
    }
   ],
   "source": [
    "type(a)"
   ]
  },
  {
   "cell_type": "code",
   "execution_count": 11,
   "id": "dea78450",
   "metadata": {},
   "outputs": [
    {
     "data": {
      "text/plain": [
       "int"
      ]
     },
     "execution_count": 11,
     "metadata": {},
     "output_type": "execute_result"
    }
   ],
   "source": [
    "a=1\n",
    "type(a)"
   ]
  },
  {
   "cell_type": "code",
   "execution_count": 12,
   "id": "11eca226",
   "metadata": {},
   "outputs": [
    {
     "data": {
      "text/plain": [
       "str"
      ]
     },
     "execution_count": 12,
     "metadata": {},
     "output_type": "execute_result"
    }
   ],
   "source": [
    "type(b)"
   ]
  },
  {
   "cell_type": "code",
   "execution_count": 13,
   "id": "736a46b7",
   "metadata": {},
   "outputs": [],
   "source": [
    "#multiline strings\n",
    "multistr=\"\"\"this\n",
    "is a multi line strings\"\"\"\n"
   ]
  },
  {
   "cell_type": "code",
   "execution_count": 14,
   "id": "6db5238d",
   "metadata": {},
   "outputs": [
    {
     "name": "stdout",
     "output_type": "stream",
     "text": [
      "this\n",
      "is a multi line strings\n"
     ]
    }
   ],
   "source": [
    "print(multistr)"
   ]
  },
  {
   "cell_type": "code",
   "execution_count": 15,
   "id": "f8883464",
   "metadata": {},
   "outputs": [
    {
     "data": {
      "text/plain": [
       "'this\\nis a multi line strings'"
      ]
     },
     "execution_count": 15,
     "metadata": {},
     "output_type": "execute_result"
    }
   ],
   "source": [
    "multistr"
   ]
  },
  {
   "cell_type": "code",
   "execution_count": 16,
   "id": "e1c239b8",
   "metadata": {},
   "outputs": [],
   "source": [
    "x=\"\"\"a\n",
    "b c d\"\"\""
   ]
  },
  {
   "cell_type": "code",
   "execution_count": 17,
   "id": "81ef7bfd",
   "metadata": {},
   "outputs": [
    {
     "data": {
      "text/plain": [
       "'a\\nb c d'"
      ]
     },
     "execution_count": 17,
     "metadata": {},
     "output_type": "execute_result"
    }
   ],
   "source": [
    "x"
   ]
  },
  {
   "cell_type": "code",
   "execution_count": 18,
   "id": "6ec2fcde",
   "metadata": {},
   "outputs": [],
   "source": [
    "string = \"INNOGEEKS\""
   ]
  },
  {
   "cell_type": "code",
   "execution_count": 19,
   "id": "8ef009d1",
   "metadata": {},
   "outputs": [
    {
     "name": "stdout",
     "output_type": "stream",
     "text": [
      "I\n"
     ]
    }
   ],
   "source": [
    "print(string[0])"
   ]
  },
  {
   "cell_type": "code",
   "execution_count": 20,
   "id": "730f70b0",
   "metadata": {},
   "outputs": [
    {
     "name": "stdout",
     "output_type": "stream",
     "text": [
      "K\n"
     ]
    }
   ],
   "source": [
    "print(string[7])"
   ]
  },
  {
   "cell_type": "code",
   "execution_count": 21,
   "id": "d6211673",
   "metadata": {},
   "outputs": [
    {
     "name": "stdout",
     "output_type": "stream",
     "text": [
      "S\n"
     ]
    }
   ],
   "source": [
    "print(string[-1])"
   ]
  },
  {
   "cell_type": "code",
   "execution_count": 22,
   "id": "a5e4a688",
   "metadata": {},
   "outputs": [],
   "source": [
    "substring = string [0:0]"
   ]
  },
  {
   "cell_type": "code",
   "execution_count": 23,
   "id": "8c89a3a7",
   "metadata": {},
   "outputs": [
    {
     "data": {
      "text/plain": [
       "''"
      ]
     },
     "execution_count": 23,
     "metadata": {},
     "output_type": "execute_result"
    }
   ],
   "source": [
    "substring"
   ]
  },
  {
   "cell_type": "code",
   "execution_count": 24,
   "id": "ac4db64c",
   "metadata": {},
   "outputs": [
    {
     "name": "stdout",
     "output_type": "stream",
     "text": [
      "\n"
     ]
    }
   ],
   "source": [
    "print(substring)"
   ]
  },
  {
   "cell_type": "code",
   "execution_count": 25,
   "id": "893c5381",
   "metadata": {},
   "outputs": [
    {
     "data": {
      "text/plain": [
       "''"
      ]
     },
     "execution_count": 25,
     "metadata": {},
     "output_type": "execute_result"
    }
   ],
   "source": [
    "substring = string [7:-2]\n",
    "substring"
   ]
  },
  {
   "cell_type": "code",
   "execution_count": 26,
   "id": "98e4aff9",
   "metadata": {},
   "outputs": [],
   "source": [
    "substring = string [6:2]"
   ]
  },
  {
   "cell_type": "code",
   "execution_count": 27,
   "id": "c0e707bb",
   "metadata": {},
   "outputs": [
    {
     "data": {
      "text/plain": [
       "''"
      ]
     },
     "execution_count": 27,
     "metadata": {},
     "output_type": "execute_result"
    }
   ],
   "source": [
    "substring"
   ]
  },
  {
   "cell_type": "code",
   "execution_count": 28,
   "id": "db1d4c05",
   "metadata": {},
   "outputs": [
    {
     "data": {
      "text/plain": [
       "' substring = string[ start: stop : step] '"
      ]
     },
     "execution_count": 28,
     "metadata": {},
     "output_type": "execute_result"
    }
   ],
   "source": [
    "\"\"\" substring = string[ start: stop : step] \"\"\"\n"
   ]
  },
  {
   "cell_type": "code",
   "execution_count": 29,
   "id": "0702d353",
   "metadata": {},
   "outputs": [
    {
     "data": {
      "text/plain": [
       "'INNOGEEKS'"
      ]
     },
     "execution_count": 29,
     "metadata": {},
     "output_type": "execute_result"
    }
   ],
   "source": [
    "substring = string [::]\n",
    "substring"
   ]
  },
  {
   "cell_type": "code",
   "execution_count": 30,
   "id": "ed4d7057",
   "metadata": {},
   "outputs": [
    {
     "data": {
      "text/plain": [
       "'NOE'"
      ]
     },
     "execution_count": 30,
     "metadata": {},
     "output_type": "execute_result"
    }
   ],
   "source": [
    "substring = string [ 1:6:2]\n",
    "substring"
   ]
  },
  {
   "cell_type": "code",
   "execution_count": null,
   "id": "e5503407",
   "metadata": {},
   "outputs": [],
   "source": [
    "#types of indexing\n",
    "#positive indexing(left to right)\n",
    "#negative indexing(right to left(-1,-2....)\n"
   ]
  },
  {
   "cell_type": "code",
   "execution_count": 35,
   "id": "8b1925ea",
   "metadata": {},
   "outputs": [
    {
     "name": "stdout",
     "output_type": "stream",
     "text": [
      "l\n"
     ]
    }
   ],
   "source": [
    "c=\"hello\"\n",
    "print(c[-2])"
   ]
  },
  {
   "cell_type": "code",
   "execution_count": 3,
   "id": "3e597123",
   "metadata": {},
   "outputs": [
    {
     "name": "stdout",
     "output_type": "stream",
     "text": [
      "hello world\n",
      "shalu\n"
     ]
    }
   ],
   "source": [
    "#slicing\n",
    "c=\"hello world\"\n",
    "print(c)\n",
    "b=\"shalu\"\n",
    "print(b)"
   ]
  },
  {
   "cell_type": "code",
   "execution_count": 4,
   "id": "6629e2ec-b569-4807-a30d-13ade2e66240",
   "metadata": {},
   "outputs": [
    {
     "name": "stdout",
     "output_type": "stream",
     "text": [
      "he\n"
     ]
    }
   ],
   "source": [
    "print(c[0:2])"
   ]
  },
  {
   "cell_type": "code",
   "execution_count": 5,
   "id": "b8bfa68b-a646-48f8-acf0-5398eedc9217",
   "metadata": {},
   "outputs": [
    {
     "name": "stdout",
     "output_type": "stream",
     "text": [
      "llo world\n"
     ]
    }
   ],
   "source": [
    "print(c[2:])"
   ]
  },
  {
   "cell_type": "code",
   "execution_count": 6,
   "id": "35d98649-b383-44ab-abed-1f96488b56d6",
   "metadata": {},
   "outputs": [
    {
     "name": "stdout",
     "output_type": "stream",
     "text": [
      "hell\n"
     ]
    }
   ],
   "source": [
    "print(c[:4])"
   ]
  },
  {
   "cell_type": "code",
   "execution_count": 10,
   "id": "034f5a09-799c-4bc9-900d-5d5c719b4623",
   "metadata": {},
   "outputs": [
    {
     "name": "stdout",
     "output_type": "stream",
     "text": [
      "hlw\n"
     ]
    }
   ],
   "source": [
    "print(c[0:8:3])#0 s start hua 7 tk gya \n",
    "#aur usme 2 -2 letters chor k 3rd letter print kiya"
   ]
  },
  {
   "cell_type": "code",
   "execution_count": 13,
   "id": "0fb2d375-6e27-4a43-a0b1-808e123c0ead",
   "metadata": {},
   "outputs": [
    {
     "name": "stdout",
     "output_type": "stream",
     "text": [
      "\n"
     ]
    }
   ],
   "source": [
    "print(c[0:6:-1])#positive indexing m negative steps nhi l skte\n"
   ]
  },
  {
   "cell_type": "code",
   "execution_count": 14,
   "id": "278a8658-04fb-478d-9faa-a07733afd639",
   "metadata": {},
   "outputs": [
    {
     "name": "stdout",
     "output_type": "stream",
     "text": [
      "wr\n"
     ]
    }
   ],
   "source": [
    "print(c[-5:-1:2])"
   ]
  },
  {
   "cell_type": "code",
   "execution_count": 15,
   "id": "2855b574-1ed2-400d-8d84-31b16a89bdba",
   "metadata": {},
   "outputs": [
    {
     "name": "stdout",
     "output_type": "stream",
     "text": [
      "dlrow olleh\n"
     ]
    }
   ],
   "source": [
    "print(c[::-1])"
   ]
  },
  {
   "cell_type": "code",
   "execution_count": 16,
   "id": "e930a1aa-6569-4e06-8f5d-c9497063bf7e",
   "metadata": {},
   "outputs": [],
   "source": [
    "#strings are a immutable data types.cannot be chnged\n"
   ]
  },
  {
   "cell_type": "code",
   "execution_count": 17,
   "id": "6c734964-b643-4747-b41f-d7ad997d7bdc",
   "metadata": {},
   "outputs": [
    {
     "name": "stdout",
     "output_type": "stream",
     "text": [
      "world\n"
     ]
    }
   ],
   "source": [
    "c=\"world\"\n",
    "print(c)"
   ]
  },
  {
   "cell_type": "code",
   "execution_count": 18,
   "id": "a53736e1-e340-4ad7-91e9-da858921e2cf",
   "metadata": {},
   "outputs": [],
   "source": [
    "#deletion"
   ]
  },
  {
   "cell_type": "code",
   "execution_count": 22,
   "id": "42ae6e49-1303-40da-94ba-35bc1736a63b",
   "metadata": {},
   "outputs": [
    {
     "name": "stdout",
     "output_type": "stream",
     "text": [
      "hello\n"
     ]
    }
   ],
   "source": [
    "c=\"hello\"\n",
    "print(c)"
   ]
  },
  {
   "cell_type": "code",
   "execution_count": 24,
   "id": "e1507d8b-b1f6-4bb0-a416-dce6b5244b64",
   "metadata": {},
   "outputs": [],
   "source": [
    "#strings cannot be edited.new indexes cannot be chnaged"
   ]
  },
  {
   "cell_type": "code",
   "execution_count": 26,
   "id": "4847bf43-4928-401f-a387-9e5ae7ad0036",
   "metadata": {},
   "outputs": [
    {
     "data": {
      "text/plain": [
       "'hello world'"
      ]
     },
     "execution_count": 26,
     "metadata": {},
     "output_type": "execute_result"
    }
   ],
   "source": [
    "\"hello\"+\" \" + \"world\""
   ]
  },
  {
   "cell_type": "code",
   "execution_count": 27,
   "id": "d29a517d-9fb5-4d95-8330-cd8a60a0767f",
   "metadata": {},
   "outputs": [
    {
     "name": "stdout",
     "output_type": "stream",
     "text": [
      "**************************************************\n"
     ]
    }
   ],
   "source": [
    "print(\"*\"*50)"
   ]
  },
  {
   "cell_type": "code",
   "execution_count": 28,
   "id": "47966f3a-3041-4c91-afed-53eee0aba784",
   "metadata": {},
   "outputs": [
    {
     "data": {
      "text/plain": [
       "False"
      ]
     },
     "execution_count": 28,
     "metadata": {},
     "output_type": "execute_result"
    }
   ],
   "source": [
    "\"hello\"==\"world\""
   ]
  },
  {
   "cell_type": "code",
   "execution_count": 30,
   "id": "6e26f9a7-7fda-4b6e-a803-ec14593b3ce6",
   "metadata": {},
   "outputs": [
    {
     "data": {
      "text/plain": [
       "False"
      ]
     },
     "execution_count": 30,
     "metadata": {},
     "output_type": "execute_result"
    }
   ],
   "source": [
    "\"mumbai\">\"pune\"#lexiographically.. dictionary m jo word baad m ayega vo bda hoga\n",
    "#jo phle ayega vo chota  hoga"
   ]
  },
  {
   "cell_type": "code",
   "execution_count": 32,
   "id": "bfc6e480-c21e-46ca-acd6-217cfef6eae5",
   "metadata": {},
   "outputs": [
    {
     "data": {
      "text/plain": [
       "True"
      ]
     },
     "execution_count": 32,
     "metadata": {},
     "output_type": "execute_result"
    }
   ],
   "source": [
    "\"kol\">\"Kol\"#small letter baad m ata h to bda hoga"
   ]
  },
  {
   "cell_type": "code",
   "execution_count": 34,
   "id": "8f008601-d336-4516-ade8-e8bff165a20f",
   "metadata": {},
   "outputs": [
    {
     "data": {
      "text/plain": [
       "''"
      ]
     },
     "execution_count": 34,
     "metadata": {},
     "output_type": "execute_result"
    }
   ],
   "source": [
    "#\"\"->False(empty strings ko false btata h)\n",
    "#\"non-empty\"->True\n",
    "\"\" and \"hello\""
   ]
  },
  {
   "cell_type": "code",
   "execution_count": 35,
   "id": "feb1cc3c-4cd7-48d8-ab19-22abbfb456f3",
   "metadata": {},
   "outputs": [
    {
     "data": {
      "text/plain": [
       "'hello'"
      ]
     },
     "execution_count": 35,
     "metadata": {},
     "output_type": "execute_result"
    }
   ],
   "source": [
    "\"\"or \"hello\""
   ]
  },
  {
   "cell_type": "code",
   "execution_count": 36,
   "id": "35e2442c-a757-44a0-a19a-74b6c7b4e4d8",
   "metadata": {},
   "outputs": [
    {
     "data": {
      "text/plain": [
       "'hello'"
      ]
     },
     "execution_count": 36,
     "metadata": {},
     "output_type": "execute_result"
    }
   ],
   "source": [
    "\"hello\"or\"world\""
   ]
  },
  {
   "cell_type": "code",
   "execution_count": 37,
   "id": "8e71efa4-08a0-46c3-b6c9-8988c9f63b67",
   "metadata": {},
   "outputs": [
    {
     "data": {
      "text/plain": [
       "'hello'"
      ]
     },
     "execution_count": 37,
     "metadata": {},
     "output_type": "execute_result"
    }
   ],
   "source": [
    "c"
   ]
  },
  {
   "cell_type": "code",
   "execution_count": 38,
   "id": "f2faf570-0aee-4a35-a4a6-626126a88c33",
   "metadata": {},
   "outputs": [
    {
     "data": {
      "text/plain": [
       "True"
      ]
     },
     "execution_count": 38,
     "metadata": {},
     "output_type": "execute_result"
    }
   ],
   "source": [
    "'h' in c"
   ]
  },
  {
   "cell_type": "code",
   "execution_count": 39,
   "id": "8a9ef881-8f50-45be-87fa-08ba503ed67c",
   "metadata": {},
   "outputs": [],
   "source": [
    "c=\"kolkata\""
   ]
  },
  {
   "cell_type": "code",
   "execution_count": 40,
   "id": "48450331-3d1f-4a52-97ee-9f973a6c3325",
   "metadata": {},
   "outputs": [
    {
     "data": {
      "text/plain": [
       "7"
      ]
     },
     "execution_count": 40,
     "metadata": {},
     "output_type": "execute_result"
    }
   ],
   "source": [
    "len(c)"
   ]
  },
  {
   "cell_type": "code",
   "execution_count": 41,
   "id": "8a0c13ce-b48f-49f0-933e-ceea9a2580b6",
   "metadata": {},
   "outputs": [
    {
     "data": {
      "text/plain": [
       "'t'"
      ]
     },
     "execution_count": 41,
     "metadata": {},
     "output_type": "execute_result"
    }
   ],
   "source": [
    "max(c)"
   ]
  },
  {
   "cell_type": "code",
   "execution_count": 43,
   "id": "ddced94d-0d01-482c-bc1c-1dcd1cb43a76",
   "metadata": {},
   "outputs": [
    {
     "data": {
      "text/plain": [
       "['t', 'o', 'l', 'k', 'k', 'a', 'a']"
      ]
     },
     "execution_count": 43,
     "metadata": {},
     "output_type": "execute_result"
    }
   ],
   "source": [
    "sorted(c,reverse=True)"
   ]
  },
  {
   "cell_type": "code",
   "execution_count": 44,
   "id": "a7c1c832-8015-4d6c-a8ba-c4c587a0902a",
   "metadata": {},
   "outputs": [
    {
     "data": {
      "text/plain": [
       "'Kolkata'"
      ]
     },
     "execution_count": 44,
     "metadata": {},
     "output_type": "execute_result"
    }
   ],
   "source": [
    "c.capitalize()#only 1st alphabet capital"
   ]
  },
  {
   "cell_type": "code",
   "execution_count": 45,
   "id": "e047615f-190a-4b17-b03c-a21a1f860344",
   "metadata": {},
   "outputs": [
    {
     "data": {
      "text/plain": [
       "'It Is Raining Today'"
      ]
     },
     "execution_count": 45,
     "metadata": {},
     "output_type": "execute_result"
    }
   ],
   "source": [
    "\"it is raining today\".title()#first alphabet of every word capital"
   ]
  },
  {
   "cell_type": "code",
   "execution_count": 46,
   "id": "4a53e64b-00a6-4208-bda3-8e4c99aa4534",
   "metadata": {},
   "outputs": [
    {
     "data": {
      "text/plain": [
       "'KOLKATA'"
      ]
     },
     "execution_count": 46,
     "metadata": {},
     "output_type": "execute_result"
    }
   ],
   "source": [
    "c.upper()"
   ]
  },
  {
   "cell_type": "code",
   "execution_count": 47,
   "id": "fcf94ee2-38d2-4143-9bb4-f5363025e93c",
   "metadata": {},
   "outputs": [
    {
     "data": {
      "text/plain": [
       "'kolkata'"
      ]
     },
     "execution_count": 47,
     "metadata": {},
     "output_type": "execute_result"
    }
   ],
   "source": [
    "c.lower()"
   ]
  },
  {
   "cell_type": "code",
   "execution_count": 48,
   "id": "a9df412a-8e9e-4e6a-8784-e0a0e5ccc01b",
   "metadata": {},
   "outputs": [
    {
     "data": {
      "text/plain": [
       "2"
      ]
     },
     "execution_count": 48,
     "metadata": {},
     "output_type": "execute_result"
    }
   ],
   "source": [
    "c.count(\"k\")"
   ]
  },
  {
   "cell_type": "code",
   "execution_count": 49,
   "id": "2b924265-24c2-4c72-9e7f-233e3ebe062e",
   "metadata": {},
   "outputs": [
    {
     "data": {
      "text/plain": [
       "4"
      ]
     },
     "execution_count": 49,
     "metadata": {},
     "output_type": "execute_result"
    }
   ],
   "source": [
    "c.find(\"a\")"
   ]
  },
  {
   "cell_type": "code",
   "execution_count": 51,
   "id": "3dede245-9500-4891-afc8-4cdd22282826",
   "metadata": {},
   "outputs": [
    {
     "data": {
      "text/plain": [
       "4"
      ]
     },
     "execution_count": 51,
     "metadata": {},
     "output_type": "execute_result"
    }
   ],
   "source": [
    "c.index(\"a\")"
   ]
  },
  {
   "cell_type": "code",
   "execution_count": 53,
   "id": "d3e9c55f-33dc-450d-9a66-047c24d46f59",
   "metadata": {},
   "outputs": [
    {
     "data": {
      "text/plain": [
       "True"
      ]
     },
     "execution_count": 53,
     "metadata": {},
     "output_type": "execute_result"
    }
   ],
   "source": [
    "c.endswith(\"a\")#same startswith"
   ]
  },
  {
   "cell_type": "code",
   "execution_count": 62,
   "id": "b3661325-86f5-44ed-a229-501cdfc98b11",
   "metadata": {},
   "outputs": [
    {
     "name": "stdin",
     "output_type": "stream",
     "text": [
      "enter the name shalu\n",
      "enter your age 19\n"
     ]
    },
    {
     "data": {
      "text/plain": [
       "'hello my name isshalu and i am19'"
      ]
     },
     "execution_count": 62,
     "metadata": {},
     "output_type": "execute_result"
    }
   ],
   "source": [
    "\"hello my name is {} and i am {}\".format(input(\"enter the name\"),input(\"enter your age\"))"
   ]
  },
  {
   "cell_type": "code",
   "execution_count": 60,
   "id": "fd51626e-4b38-4f81-9225-6d05bcb61ef0",
   "metadata": {},
   "outputs": [
    {
     "data": {
      "text/plain": [
       "'hello my name is shalu and i am19'"
      ]
     },
     "execution_count": 60,
     "metadata": {},
     "output_type": "execute_result"
    }
   ],
   "source": [
    "\"hello my name is {} and i am{}\".format(\"shalu\",19)"
   ]
  },
  {
   "cell_type": "code",
   "execution_count": 63,
   "id": "6b27db4e-6ef1-4167-815a-c1ee533ef330",
   "metadata": {},
   "outputs": [
    {
     "data": {
      "text/plain": [
       "True"
      ]
     },
     "execution_count": 63,
     "metadata": {},
     "output_type": "execute_result"
    }
   ],
   "source": [
    "\"flat20\".isalnum()"
   ]
  },
  {
   "cell_type": "code",
   "execution_count": 64,
   "id": "4bf3aa0d-f8a6-4daa-9ce6-1511419b932a",
   "metadata": {},
   "outputs": [
    {
     "data": {
      "text/plain": [
       "['who', 'is', 'the', 'prime', 'minister', 'of', 'india']"
      ]
     },
     "execution_count": 64,
     "metadata": {},
     "output_type": "execute_result"
    }
   ],
   "source": [
    "\"who is the prime minister of india\".split()"
   ]
  },
  {
   "cell_type": "code",
   "execution_count": 65,
   "id": "12ce2f41-bafa-4138-a0f5-6c25dd0b3be1",
   "metadata": {},
   "outputs": [
    {
     "data": {
      "text/plain": [
       "['who is the prime minister ', ' india']"
      ]
     },
     "execution_count": 65,
     "metadata": {},
     "output_type": "execute_result"
    }
   ],
   "source": [
    "\"who is the prime minister of india\".split(\"of\")"
   ]
  },
  {
   "cell_type": "code",
   "execution_count": 66,
   "id": "190bd549-00ee-4e52-acf5-07f5f156c570",
   "metadata": {},
   "outputs": [
    {
     "data": {
      "text/plain": [
       "'who is the prime minister   india'"
      ]
     },
     "execution_count": 66,
     "metadata": {},
     "output_type": "execute_result"
    }
   ],
   "source": [
    "\" \".join(['who is the prime minister ', ' india'])\n",
    "\n"
   ]
  },
  {
   "cell_type": "code",
   "execution_count": 67,
   "id": "bfa2cabf-3026-4268-851f-4ed660ccfc7c",
   "metadata": {},
   "outputs": [
    {
     "data": {
      "text/plain": [
       "'Hi I am intelligent'"
      ]
     },
     "execution_count": 67,
     "metadata": {},
     "output_type": "execute_result"
    }
   ],
   "source": [
    "\"Hi I am smart\".replace(\"smart\",\"intelligent\")"
   ]
  },
  {
   "cell_type": "code",
   "execution_count": 68,
   "id": "70393dbc-7f2e-4360-aebb-a9799f2fad14",
   "metadata": {},
   "outputs": [
    {
     "data": {
      "text/plain": [
       "'shalu'"
      ]
     },
     "execution_count": 68,
     "metadata": {},
     "output_type": "execute_result"
    }
   ],
   "source": [
    "name=\"      shalu \"\n",
    "name.strip()\n",
    "\n"
   ]
  },
  {
   "cell_type": "code",
   "execution_count": null,
   "id": "93258236-0a3a-4ae5-a32e-334a406ba089",
   "metadata": {},
   "outputs": [],
   "source": [
    "\"hello\""
   ]
  }
 ],
 "metadata": {
  "kernelspec": {
   "display_name": "Python 3 (ipykernel)",
   "language": "python",
   "name": "python3"
  },
  "language_info": {
   "codemirror_mode": {
    "name": "ipython",
    "version": 3
   },
   "file_extension": ".py",
   "mimetype": "text/x-python",
   "name": "python",
   "nbconvert_exporter": "python",
   "pygments_lexer": "ipython3",
   "version": "3.11.6"
  }
 },
 "nbformat": 4,
 "nbformat_minor": 5
}
