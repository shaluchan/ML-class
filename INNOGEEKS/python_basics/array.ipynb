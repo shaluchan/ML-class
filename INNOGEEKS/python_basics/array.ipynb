{
 "cells": [
  {
   "cell_type": "raw",
   "id": "70ce8817",
   "metadata": {},
   "source": []
  },
  {
   "cell_type": "markdown",
   "id": "6ba8c93e",
   "metadata": {},
   "source": [
    "# array shape and reshape\n"
   ]
  },
  {
   "cell_type": "code",
   "execution_count": 4,
   "id": "c83d9db2",
   "metadata": {},
   "outputs": [],
   "source": [
    "import numpy as np"
   ]
  },
  {
   "cell_type": "code",
   "execution_count": 5,
   "id": "11ae71ed",
   "metadata": {},
   "outputs": [
    {
     "name": "stdout",
     "output_type": "stream",
     "text": [
      "(2, 3)\n",
      "2\n",
      "6\n"
     ]
    }
   ],
   "source": [
    "arr = np.array([[1,2,3],[4,5,6]])\n",
    "print(arr.shape)\n",
    "print(arr.ndim)\n",
    "print(arr.size)"
   ]
  },
  {
   "cell_type": "code",
   "execution_count": 6,
   "id": "d04a82db",
   "metadata": {},
   "outputs": [
    {
     "data": {
      "text/plain": [
       "numpy.ndarray"
      ]
     },
     "execution_count": 6,
     "metadata": {},
     "output_type": "execute_result"
    }
   ],
   "source": [
    "type(arr)"
   ]
  },
  {
   "cell_type": "code",
   "execution_count": 9,
   "id": "d3dbf2f4",
   "metadata": {},
   "outputs": [],
   "source": [
    "arr_1=np.arange(1,13)"
   ]
  },
  {
   "cell_type": "code",
   "execution_count": 10,
   "id": "5d4817ed",
   "metadata": {},
   "outputs": [
    {
     "data": {
      "text/plain": [
       "array([ 1,  2,  3,  4,  5,  6,  7,  8,  9, 10, 11, 12])"
      ]
     },
     "execution_count": 10,
     "metadata": {},
     "output_type": "execute_result"
    }
   ],
   "source": [
    "arr_1"
   ]
  },
  {
   "cell_type": "code",
   "execution_count": 22,
   "id": "b543fff9",
   "metadata": {},
   "outputs": [],
   "source": [
    "reshaped_arr_1=arr_1.reshape((2,2,-1))"
   ]
  },
  {
   "cell_type": "code",
   "execution_count": 23,
   "id": "22950ff1",
   "metadata": {},
   "outputs": [
    {
     "data": {
      "text/plain": [
       "array([[[ 1,  2,  3],\n",
       "        [ 4,  5,  6]],\n",
       "\n",
       "       [[ 7,  8,  9],\n",
       "        [10, 11, 12]]])"
      ]
     },
     "execution_count": 23,
     "metadata": {},
     "output_type": "execute_result"
    }
   ],
   "source": [
    "reshaped_arr_1"
   ]
  },
  {
   "cell_type": "code",
   "execution_count": 25,
   "id": "665abf82",
   "metadata": {},
   "outputs": [],
   "source": [
    "arr_2= reshaped_arr_1.reshape(1,-1)"
   ]
  },
  {
   "cell_type": "markdown",
   "id": "067b2068",
   "metadata": {},
   "source": [
    "-1 daal do direct\n"
   ]
  },
  {
   "cell_type": "code",
   "execution_count": 30,
   "id": "7efbd6a3",
   "metadata": {},
   "outputs": [
    {
     "data": {
      "text/plain": [
       "array([[ 1,  2,  3,  4,  5,  6,  7,  8,  9, 10, 11, 12]])"
      ]
     },
     "execution_count": 30,
     "metadata": {},
     "output_type": "execute_result"
    }
   ],
   "source": [
    "arr_2"
   ]
  },
  {
   "cell_type": "code",
   "execution_count": 31,
   "id": "8e5e3d4f",
   "metadata": {},
   "outputs": [
    {
     "data": {
      "text/plain": [
       "array([ 1,  2,  3,  4,  5,  6,  7,  8,  9, 10, 11, 12])"
      ]
     },
     "execution_count": 31,
     "metadata": {},
     "output_type": "execute_result"
    }
   ],
   "source": [
    "reshaped_arr_1.ravel()"
   ]
  },
  {
   "cell_type": "code",
   "execution_count": 36,
   "id": "6b28a401",
   "metadata": {},
   "outputs": [
    {
     "name": "stdout",
     "output_type": "stream",
     "text": [
      "[ 1  2  3  4  5  6  7  8  9 10 11 12]\n"
     ]
    }
   ],
   "source": [
    "for  i in arr_2:\n",
    "  print(i)"
   ]
  },
  {
   "cell_type": "code",
   "execution_count": 37,
   "id": "4787b997",
   "metadata": {},
   "outputs": [
    {
     "name": "stdout",
     "output_type": "stream",
     "text": [
      "[ 1  2  3  4  5  6  7  8  9 10 11 12]\n"
     ]
    }
   ],
   "source": [
    "for i in arr_2:\n",
    "    print(i)"
   ]
  },
  {
   "cell_type": "code",
   "execution_count": 39,
   "id": "5fd28146",
   "metadata": {},
   "outputs": [
    {
     "name": "stdout",
     "output_type": "stream",
     "text": [
      "[[1 2 3]\n",
      " [4 5 6]]\n",
      "[[ 7  8  9]\n",
      " [10 11 12]]\n"
     ]
    }
   ],
   "source": [
    "for  i in reshaped_arr_1:\n",
    "    print(i)"
   ]
  },
  {
   "cell_type": "code",
   "execution_count": 42,
   "id": "b8e5b6fe",
   "metadata": {},
   "outputs": [
    {
     "name": "stdout",
     "output_type": "stream",
     "text": [
      "1\n",
      "2\n",
      "3\n",
      "4\n",
      "5\n",
      "6\n",
      "7\n",
      "8\n",
      "9\n",
      "10\n",
      "11\n",
      "12\n"
     ]
    }
   ],
   "source": [
    "for elem in np.nditer(reshaped_arr_1):\n",
    "    print(elem)"
   ]
  },
  {
   "cell_type": "code",
   "execution_count": 44,
   "id": "28d6dd49",
   "metadata": {},
   "outputs": [],
   "source": [
    "arr=np.array([1,2,3])\n",
    "sin_arr =np.sin(arr)"
   ]
  },
  {
   "cell_type": "code",
   "execution_count": 53,
   "id": "62fdbdac",
   "metadata": {},
   "outputs": [
    {
     "data": {
      "text/plain": [
       "array([0.84147098, 0.90929743, 0.14112001])"
      ]
     },
     "execution_count": 53,
     "metadata": {},
     "output_type": "execute_result"
    }
   ],
   "source": [
    "sin_arr"
   ]
  },
  {
   "cell_type": "code",
   "execution_count": 54,
   "id": "4caa46e5",
   "metadata": {},
   "outputs": [],
   "source": [
    "matrix_a =np.array([[1,2], [3,4]])\n",
    "matrix_b= np.array([[5,6], [7,8]])\n",
    "result = np.dot(matrix_a, matrix_b)"
   ]
  },
  {
   "cell_type": "code",
   "execution_count": 55,
   "id": "dcfce445",
   "metadata": {},
   "outputs": [
    {
     "data": {
      "text/plain": [
       "array([[19, 22],\n",
       "       [43, 50]])"
      ]
     },
     "execution_count": 55,
     "metadata": {},
     "output_type": "execute_result"
    }
   ],
   "source": [
    "result"
   ]
  },
  {
   "cell_type": "code",
   "execution_count": 56,
   "id": "ab9bd496",
   "metadata": {},
   "outputs": [],
   "source": [
    "##1. searching an element in an array\n",
    "##2. finding largest number in an array.\n",
    "##3. finding smallest number in an array.\n",
    "##4. reversing an array.\n",
    "##5. rotating an array by kth position."
   ]
  },
  {
   "cell_type": "code",
   "execution_count": null,
   "id": "f209be61",
   "metadata": {},
   "outputs": [],
   "source": []
  }
 ],
 "metadata": {
  "kernelspec": {
   "display_name": "Python 3 (ipykernel)",
   "language": "python",
   "name": "python3"
  },
  "language_info": {
   "codemirror_mode": {
    "name": "ipython",
    "version": 3
   },
   "file_extension": ".py",
   "mimetype": "text/x-python",
   "name": "python",
   "nbconvert_exporter": "python",
   "pygments_lexer": "ipython3",
   "version": "3.11.5"
  }
 },
 "nbformat": 4,
 "nbformat_minor": 5
}
