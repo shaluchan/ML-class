{
 "cells": [
  {
   "cell_type": "code",
   "execution_count": 4,
   "id": "0ab86dad",
   "metadata": {},
   "outputs": [
    {
     "name": "stdout",
     "output_type": "stream",
     "text": [
      "enter a integer:6\n",
      "even\n"
     ]
    }
   ],
   "source": [
    "def is_even(n):\n",
    "  if n%2==0:\n",
    "     return \"even\"\n",
    "  else:\n",
    "    return \"odd\"\n",
    "n= int(input(\"enter a integer:\"))\n",
    "a= is_even(n)\n",
    "print(a)"
   ]
  },
  {
   "cell_type": "code",
   "execution_count": 5,
   "id": "861407ab",
   "metadata": {},
   "outputs": [
    {
     "data": {
      "text/plain": [
       "4"
      ]
     },
     "execution_count": 5,
     "metadata": {},
     "output_type": "execute_result"
    }
   ],
   "source": [
    "def square(*,x):\n",
    "    return x**x\n",
    "square(x=2)\n",
    "    "
   ]
  },
  {
   "cell_type": "code",
   "execution_count": 13,
   "id": "62e4515e",
   "metadata": {},
   "outputs": [],
   "source": [
    "def my_func(x):\n",
    "  x=[1,2,3,4,5]"
   ]
  },
  {
   "cell_type": "code",
   "execution_count": 14,
   "id": "6749a127",
   "metadata": {},
   "outputs": [
    {
     "name": "stdout",
     "output_type": "stream",
     "text": [
      "his last name is refsnes\n"
     ]
    }
   ],
   "source": [
    "def my_function(**kid):\n",
    "    print(\"his last name is \" + kid[\"lname\"])\n",
    "my_function(fname=\"tobias\", lname=\"refsnes\")"
   ]
  },
  {
   "cell_type": "code",
   "execution_count": 8,
   "id": "e45daf1e",
   "metadata": {},
   "outputs": [
    {
     "name": "stdout",
     "output_type": "stream",
     "text": [
      "s\n",
      "h\n",
      "a\n",
      "l\n",
      "u\n"
     ]
    }
   ],
   "source": [
    "name= \"shalu\"\n",
    "for x in name:\n",
    "  print(x)"
   ]
  },
  {
   "cell_type": "code",
   "execution_count": 9,
   "id": "9eb56479",
   "metadata": {},
   "outputs": [
    {
     "name": "stdout",
     "output_type": "stream",
     "text": [
      "4\n"
     ]
    }
   ],
   "source": [
    "n= int(input().strip())"
   ]
  },
  {
   "cell_type": "code",
   "execution_count": 15,
   "id": "5d2ac2e6",
   "metadata": {},
   "outputs": [
    {
     "name": "stdout",
     "output_type": "stream",
     "text": [
      "happy birthday\n"
     ]
    }
   ],
   "source": [
    "def wish():\n",
    "    print(\"happy birthday\")\n",
    "wish()"
   ]
  },
  {
   "cell_type": "code",
   "execution_count": 22,
   "id": "18550921",
   "metadata": {},
   "outputs": [
    {
     "name": "stdout",
     "output_type": "stream",
     "text": [
      "shaluHappy Birthday\n"
     ]
    }
   ],
   "source": [
    "def wish(fname):\n",
    "    print(fname +\"Happy Birthday\")\n",
    "wish(\"shalu\")"
   ]
  },
  {
   "cell_type": "code",
   "execution_count": 23,
   "id": "1be2f608",
   "metadata": {},
   "outputs": [],
   "source": [
    "class MYclass:\n",
    "    x=5"
   ]
  },
  {
   "cell_type": "code",
   "execution_count": null,
   "id": "b6f8597b",
   "metadata": {},
   "outputs": [],
   "source": []
  }
 ],
 "metadata": {
  "kernelspec": {
   "display_name": "Python 3 (ipykernel)",
   "language": "python",
   "name": "python3"
  },
  "language_info": {
   "codemirror_mode": {
    "name": "ipython",
    "version": 3
   },
   "file_extension": ".py",
   "mimetype": "text/x-python",
   "name": "python",
   "nbconvert_exporter": "python",
   "pygments_lexer": "ipython3",
   "version": "3.11.5"
  }
 },
 "nbformat": 4,
 "nbformat_minor": 5
}
