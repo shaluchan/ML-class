{
 "cells": [
  {
   "cell_type": "code",
   "execution_count": 9,
   "id": "519f87d4-2c99-4e96-b6a0-c300ac6158f7",
   "metadata": {},
   "outputs": [],
   "source": [
    "#without vectorization\n"
   ]
  },
  {
   "cell_type": "code",
   "execution_count": 15,
   "id": "fc2b6d4c-2f8d-4653-978a-5c4749a2dd47",
   "metadata": {},
   "outputs": [
    {
     "name": "stdout",
     "output_type": "stream",
     "text": [
      "895\n"
     ]
    }
   ],
   "source": [
    "import numpy as np\n",
    "w=np.array([2,3,4,5,6,8])\n",
    "x=np.array([6,7,8,96,54,3])\n",
    "f=0\n",
    "b=2\n",
    "for j in range(6):\n",
    "    f=f+w[j]*x[j]\n",
    "\n",
    "f=f+b\n",
    "print(f)"
   ]
  },
  {
   "cell_type": "code",
   "execution_count": null,
   "id": "a87eb4c2-0967-4138-9367-ba6b0785ce0e",
   "metadata": {},
   "outputs": [],
   "source": [
    "#with vectorization"
   ]
  },
  {
   "cell_type": "code",
   "execution_count": 17,
   "id": "4d20806f-6af7-4f84-a162-33c7c3dbbd1c",
   "metadata": {},
   "outputs": [
    {
     "name": "stdout",
     "output_type": "stream",
     "text": [
      "895\n"
     ]
    }
   ],
   "source": [
    "w=np.array([2,3,4,5,6,8])\n",
    "x=np.array([6,7,8,96,54,3])\n",
    "f=0\n",
    "b=2\n",
    "f=np.dot(w,x)+b\n",
    "print(f)"
   ]
  },
  {
   "cell_type": "code",
   "execution_count": null,
   "id": "482eba71-b6c4-420d-8200-8094ea57c98a",
   "metadata": {},
   "outputs": [],
   "source": []
  }
 ],
 "metadata": {
  "kernelspec": {
   "display_name": "Python 3 (ipykernel)",
   "language": "python",
   "name": "python3"
  },
  "language_info": {
   "codemirror_mode": {
    "name": "ipython",
    "version": 3
   },
   "file_extension": ".py",
   "mimetype": "text/x-python",
   "name": "python",
   "nbconvert_exporter": "python",
   "pygments_lexer": "ipython3",
   "version": "3.11.6"
  }
 },
 "nbformat": 4,
 "nbformat_minor": 5
}
