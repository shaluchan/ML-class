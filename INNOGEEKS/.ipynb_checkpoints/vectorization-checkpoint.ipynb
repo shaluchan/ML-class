{
 "cells": [
  {
   "cell_type": "code",
   "execution_count": 1,
   "id": "519f87d4-2c99-4e96-b6a0-c300ac6158f7",
   "metadata": {},
   "outputs": [],
   "source": [
    "#without vectorization\n"
   ]
  },
  {
   "cell_type": "code",
   "execution_count": 2,
   "id": "fc2b6d4c-2f8d-4653-978a-5c4749a2dd47",
   "metadata": {},
   "outputs": [
    {
     "ename": "NameError",
     "evalue": "name 'np' is not defined",
     "output_type": "error",
     "traceback": [
      "\u001b[0;31m---------------------------------------------------------------------------\u001b[0m",
      "\u001b[0;31mNameError\u001b[0m                                 Traceback (most recent call last)",
      "Cell \u001b[0;32mIn[2], line 1\u001b[0m\n\u001b[0;32m----> 1\u001b[0m w\u001b[38;5;241m=\u001b[39m\u001b[43mnp\u001b[49m\u001b[38;5;241m.\u001b[39marray([\u001b[38;5;241m2\u001b[39m,\u001b[38;5;241m3\u001b[39m,\u001b[38;5;241m4\u001b[39m,\u001b[38;5;241m5\u001b[39m,\u001b[38;5;241m6\u001b[39m,\u001b[38;5;241m8\u001b[39m])\n\u001b[1;32m      2\u001b[0m x\u001b[38;5;241m=\u001b[39mnp\u001b[38;5;241m.\u001b[39marray([\u001b[38;5;241m6\u001b[39m,\u001b[38;5;241m7\u001b[39m,\u001b[38;5;241m8\u001b[39m,\u001b[38;5;241m96\u001b[39m,\u001b[38;5;241m54\u001b[39m,\u001b[38;5;241m3\u001b[39m])\n\u001b[1;32m      3\u001b[0m f\u001b[38;5;241m=\u001b[39m\u001b[38;5;241m0\u001b[39m\n",
      "\u001b[0;31mNameError\u001b[0m: name 'np' is not defined"
     ]
    }
   ],
   "source": [
    "import numpy as np\n",
    "w=np.array([2,3,4,5,6,8])\n",
    "x=np.array([6,7,8,96,54,3])\n",
    "f=0\n",
    "for j in range(n):\n",
    "    f=f+w[j]*x[j]\n",
    "\n",
    "f=f+b"
   ]
  },
  {
   "cell_type": "code",
   "execution_count": null,
   "id": "4d20806f-6af7-4f84-a162-33c7c3dbbd1c",
   "metadata": {},
   "outputs": [],
   "source": []
  }
 ],
 "metadata": {
  "kernelspec": {
   "display_name": "Python 3 (ipykernel)",
   "language": "python",
   "name": "python3"
  },
  "language_info": {
   "codemirror_mode": {
    "name": "ipython",
    "version": 3
   },
   "file_extension": ".py",
   "mimetype": "text/x-python",
   "name": "python",
   "nbconvert_exporter": "python",
   "pygments_lexer": "ipython3",
   "version": "3.11.6"
  }
 },
 "nbformat": 4,
 "nbformat_minor": 5
}
