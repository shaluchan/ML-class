{
 "cells": [
  {
   "cell_type": "code",
   "execution_count": 1,
   "id": "5da2877a-eee7-42ce-b1df-da7eecc5e531",
   "metadata": {},
   "outputs": [
    {
     "name": "stdout",
     "output_type": "stream",
     "text": [
      "hello world!\n"
     ]
    }
   ],
   "source": [
    "print('hello world!')"
   ]
  },
  {
   "cell_type": "code",
   "execution_count": 2,
   "id": "fb594d98-8a81-4316-8eff-5718b4fbdc4e",
   "metadata": {},
   "outputs": [
    {
     "name": "stdout",
     "output_type": "stream",
     "text": [
      "shiwangi singh\n",
      "20\n",
      "True\n"
     ]
    }
   ],
   "source": [
    "name='shalu'\n",
    "age=19\n",
    "name='shiwangi'\n",
    "last_name='singh'\n",
    "age=20\n",
    "is_adult =True\n",
    "print(name + \" \"+last_name)\n",
    "print(age)\n",
    "print(is_adult)\n"
   ]
  },
  {
   "cell_type": "code",
   "execution_count": 3,
   "id": "1086e157-f2ee-4d74-960e-ca71b83bb616",
   "metadata": {},
   "outputs": [
    {
     "name": "stdout",
     "output_type": "stream",
     "text": [
      "tonystark\n",
      "is52\n",
      "True\n"
     ]
    }
   ],
   "source": [
    "first_name='tony'\n",
    "last_name='stark'\n",
    "age=52\n",
    "is_genius=True\n",
    "print(first_name+last_name)\n",
    "print(\"is\"+str(age))\n",
    "print(is_genius)"
   ]
  },
  {
   "cell_type": "code",
   "execution_count": 4,
   "id": "ba612432-f49d-4e86-b823-eec7ee1bc960",
   "metadata": {},
   "outputs": [
    {
     "name": "stdin",
     "output_type": "stream",
     "text": [
      "what is ur name shalu\n"
     ]
    },
    {
     "name": "stdout",
     "output_type": "stream",
     "text": [
      "helloshalu\n",
      "welcome to our cool python class\n"
     ]
    }
   ],
   "source": [
    "name=input(\"what is ur name\")\n",
    "print(\"hello\"+name)\n",
    "print(\"welcome to our cool python class\")"
   ]
  },
  {
   "cell_type": "code",
   "execution_count": 5,
   "id": "38d22b7c-1b32-4447-8d81-ce22c291b02d",
   "metadata": {},
   "outputs": [
    {
     "name": "stdin",
     "output_type": "stream",
     "text": [
      "what is ur age 19\n"
     ]
    }
   ],
   "source": [
    "age=input(\"what is ur age\")"
   ]
  },
  {
   "cell_type": "code",
   "execution_count": 6,
   "id": "3566ec91-c4b2-409e-8414-4969066cd6b0",
   "metadata": {},
   "outputs": [
    {
     "name": "stdin",
     "output_type": "stream",
     "text": [
      "Tony what is  ur superhero name? scaryskull\n"
     ]
    },
    {
     "name": "stdout",
     "output_type": "stream",
     "text": [
      "tony's superhero name is  scaryskull\n"
     ]
    }
   ],
   "source": [
    "superhero_name=input(\"Tony what is  ur superhero name?\")\n",
    "print(\"tony's superhero name is  \"+ superhero_name)"
   ]
  },
  {
   "cell_type": "code",
   "execution_count": 7,
   "id": "829f08b7-61df-4de5-bebe-7d68cb8cae36",
   "metadata": {},
   "outputs": [
    {
     "name": "stdin",
     "output_type": "stream",
     "text": [
      "enter ur old age 18\n"
     ]
    },
    {
     "name": "stdout",
     "output_type": "stream",
     "text": [
      "20\n"
     ]
    }
   ],
   "source": [
    "#type conversion \n",
    "old_age=input(\"enter ur old age\")\n",
    "new_age=int(old_age)+2\n",
    "print(new_age)"
   ]
  },
  {
   "cell_type": "code",
   "execution_count": 8,
   "id": "6fc60dc4-0309-4bb9-b022-197eb873d036",
   "metadata": {},
   "outputs": [
    {
     "name": "stdout",
     "output_type": "stream",
     "text": [
      "18.0\n"
     ]
    }
   ],
   "source": [
    "number=18\n",
    "print(float(18))"
   ]
  },
  {
   "cell_type": "code",
   "execution_count": 9,
   "id": "32a1f1b9-3e1d-4ee4-bba8-7171fab4ac7f",
   "metadata": {},
   "outputs": [
    {
     "name": "stdin",
     "output_type": "stream",
     "text": [
      "enter first number: 22\n",
      "enter second number: 22\n"
     ]
    },
    {
     "name": "stdout",
     "output_type": "stream",
     "text": [
      "the sum is 44\n"
     ]
    }
   ],
   "source": [
    "first=input(\"enter first number:\")\n",
    "second=input(\"enter second number:\")\n",
    "sum =int(first)+int(second)\n",
    "print(\"the sum is \"+str(sum))"
   ]
  },
  {
   "cell_type": "code",
   "execution_count": 10,
   "id": "e827b81a-c530-4d79-bff7-c4499fbb6f44",
   "metadata": {},
   "outputs": [
    {
     "name": "stdout",
     "output_type": "stream",
     "text": [
      "SHALU SINGH\n"
     ]
    }
   ],
   "source": [
    "name=\"shalu singh\"\n",
    "print(name.upper())"
   ]
  },
  {
   "cell_type": "code",
   "execution_count": 11,
   "id": "e76e3c8d-41cd-4847-ba9e-acead31ecfa9",
   "metadata": {},
   "outputs": [
    {
     "name": "stdout",
     "output_type": "stream",
     "text": [
      "6\n"
     ]
    }
   ],
   "source": [
    "print(name.find('singh'))"
   ]
  },
  {
   "cell_type": "code",
   "execution_count": 12,
   "id": "5f91a4a9-744b-4607-8460-42dccc900911",
   "metadata": {},
   "outputs": [
    {
     "name": "stdout",
     "output_type": "stream",
     "text": [
      "shiwangi singh\n",
      "shalu singh\n"
     ]
    }
   ],
   "source": [
    "print(name.replace(\"shalu singh\",\"shiwangi singh\"))\n",
    "print(name)"
   ]
  },
  {
   "cell_type": "code",
   "execution_count": 13,
   "id": "e3695fdf-991d-4245-822a-9544b7b99fce",
   "metadata": {},
   "outputs": [
    {
     "name": "stdout",
     "output_type": "stream",
     "text": [
      "True\n"
     ]
    }
   ],
   "source": [
    "print(\"s\" in name)"
   ]
  },
  {
   "cell_type": "code",
   "execution_count": 14,
   "id": "da67db18-7141-4818-9c61-f9b39eca1bd0",
   "metadata": {},
   "outputs": [
    {
     "name": "stdout",
     "output_type": "stream",
     "text": [
      "7\n"
     ]
    }
   ],
   "source": [
    "#arithmetic operators\n",
    "print(5+2)"
   ]
  },
  {
   "cell_type": "code",
   "execution_count": 15,
   "id": "4699d552-0c78-4add-aa56-59fc1181fe53",
   "metadata": {},
   "outputs": [
    {
     "name": "stdout",
     "output_type": "stream",
     "text": [
      "2\n"
     ]
    }
   ],
   "source": [
    "print(5//2)#integral division"
   ]
  },
  {
   "cell_type": "code",
   "execution_count": 16,
   "id": "bcaecaff-b56e-4c56-8dcc-47785ea50af1",
   "metadata": {},
   "outputs": [
    {
     "name": "stdout",
     "output_type": "stream",
     "text": [
      "1\n"
     ]
    }
   ],
   "source": [
    "print(5%2)#modulus operator"
   ]
  },
  {
   "cell_type": "code",
   "execution_count": 17,
   "id": "b43fb3d3-da60-46f3-9c9b-6832b73c57fd",
   "metadata": {},
   "outputs": [
    {
     "name": "stdout",
     "output_type": "stream",
     "text": [
      "25\n"
     ]
    }
   ],
   "source": [
    "print(5**2)# power operator"
   ]
  },
  {
   "cell_type": "code",
   "execution_count": 18,
   "id": "37008f87-b162-4730-9757-46d8a9ad83a6",
   "metadata": {},
   "outputs": [
    {
     "name": "stdout",
     "output_type": "stream",
     "text": [
      "7\n"
     ]
    }
   ],
   "source": [
    "i=5\n",
    "i+=2\n",
    "print(i)"
   ]
  },
  {
   "cell_type": "code",
   "execution_count": 19,
   "id": "8a8983a5-cbea-4267-8f93-7dc394010850",
   "metadata": {},
   "outputs": [
    {
     "name": "stdout",
     "output_type": "stream",
     "text": [
      "True\n"
     ]
    }
   ],
   "source": [
    "print(3>2)"
   ]
  },
  {
   "cell_type": "code",
   "execution_count": 20,
   "id": "0b6a8408-07c3-4499-bce2-e4ed0715113f",
   "metadata": {},
   "outputs": [
    {
     "name": "stdout",
     "output_type": "stream",
     "text": [
      "False\n"
     ]
    }
   ],
   "source": [
    "print(3==2)\n"
   ]
  },
  {
   "cell_type": "code",
   "execution_count": 21,
   "id": "3d541d3a-47a1-466a-866d-1af08c33ff0e",
   "metadata": {},
   "outputs": [
    {
     "name": "stdin",
     "output_type": "stream",
     "text": [
      "enter your age 19\n"
     ]
    },
    {
     "name": "stdout",
     "output_type": "stream",
     "text": [
      "you are an adult\n",
      "you can vote\n"
     ]
    }
   ],
   "source": [
    "age=input(\"enter your age\")\n",
    "if int(age)>=18:\n",
    "    print(\"you are an adult\")\n",
    "    print(\"you can vote\")\n",
    "elif int(age)<18 and int(age)>3:\n",
    "   print(\"you are in school\")\n",
    "else:\n",
    "    print(\"you are a child\")"
   ]
  },
  {
   "cell_type": "code",
   "execution_count": 22,
   "id": "599b2254-344c-4532-b02f-4ef508c881a7",
   "metadata": {},
   "outputs": [
    {
     "name": "stdin",
     "output_type": "stream",
     "text": [
      "enter first number 7\n",
      "enter operator (=,-,*,/ -\n",
      "enter second number 8\n"
     ]
    },
    {
     "name": "stdout",
     "output_type": "stream",
     "text": [
      "-1\n"
     ]
    }
   ],
   "source": [
    "first=input(\"enter first number\")\n",
    "operator=input(\"enter operator (=,-,*,/\")\n",
    "second=input(\"enter second number\")\n",
    "first=int(first)\n",
    "second=int(second)\n",
    "if operator==\"+\":\n",
    "    print(first+second)\n",
    "elif operator==\"-\":\n",
    "    print(first-second)\n",
    "elif operator==\"*\":\n",
    "    print(first*second)\n",
    "elif operator==\"/\":\n",
    "    print(first/second)\n",
    "else:\n",
    "    print(\"INVALID OPERATION\")\n",
    "   "
   ]
  },
  {
   "cell_type": "code",
   "execution_count": 23,
   "id": "201845f6-7581-499c-ba2b-c13394592ff8",
   "metadata": {},
   "outputs": [],
   "source": [
    "numbers=range(5)"
   ]
  },
  {
   "cell_type": "code",
   "execution_count": 24,
   "id": "dce88144-c68b-43fd-8096-06b90a015c34",
   "metadata": {},
   "outputs": [
    {
     "name": "stdout",
     "output_type": "stream",
     "text": [
      "range(0, 5)\n"
     ]
    }
   ],
   "source": [
    "print(numbers)"
   ]
  },
  {
   "cell_type": "code",
   "execution_count": 25,
   "id": "ae5e4dca-71bf-4b1c-9c35-6877679b8b2e",
   "metadata": {},
   "outputs": [
    {
     "name": "stdout",
     "output_type": "stream",
     "text": [
      "78\n"
     ]
    }
   ],
   "source": [
    "marks=[95,98,78]#list\n",
    "print(marks[-1])"
   ]
  },
  {
   "cell_type": "code",
   "execution_count": 26,
   "id": "0fe1f225-29ec-4c95-81e5-892900348b5b",
   "metadata": {},
   "outputs": [
    {
     "name": "stdout",
     "output_type": "stream",
     "text": [
      "[95, 98]\n"
     ]
    }
   ],
   "source": [
    "print(marks[0:2])"
   ]
  },
  {
   "cell_type": "code",
   "execution_count": 27,
   "id": "591d082f-1d29-4104-b18b-a1ae540b8a95",
   "metadata": {},
   "outputs": [
    {
     "name": "stdout",
     "output_type": "stream",
     "text": [
      "95\n",
      "98\n",
      "78\n"
     ]
    }
   ],
   "source": [
    "for score in marks:\n",
    "    print(score)"
   ]
  },
  {
   "cell_type": "code",
   "execution_count": 28,
   "id": "52a93e25-27c3-42c1-96b6-717d47c4409d",
   "metadata": {},
   "outputs": [
    {
     "name": "stdout",
     "output_type": "stream",
     "text": [
      "[95, 98, 78, 99]\n"
     ]
    }
   ],
   "source": [
    "marks.append(99)\n",
    "print(marks)"
   ]
  },
  {
   "cell_type": "code",
   "execution_count": 29,
   "id": "2cf62688-3479-4c37-a384-cf5dcef46400",
   "metadata": {},
   "outputs": [
    {
     "name": "stdout",
     "output_type": "stream",
     "text": [
      "[89, 95, 98, 78, 99]\n"
     ]
    }
   ],
   "source": [
    "marks.insert(0,89)\n",
    "print(marks)"
   ]
  },
  {
   "cell_type": "code",
   "execution_count": 30,
   "id": "ef379062-ef08-4c7d-a7d9-b470341f823d",
   "metadata": {},
   "outputs": [
    {
     "name": "stdout",
     "output_type": "stream",
     "text": [
      "True\n"
     ]
    }
   ],
   "source": [
    "print(99 in marks)"
   ]
  },
  {
   "cell_type": "code",
   "execution_count": 31,
   "id": "51935f95-eac3-4b2d-841a-b893d100af6e",
   "metadata": {},
   "outputs": [
    {
     "name": "stdout",
     "output_type": "stream",
     "text": [
      "5\n"
     ]
    }
   ],
   "source": [
    "print(len(marks))"
   ]
  },
  {
   "cell_type": "code",
   "execution_count": 32,
   "id": "4a033ec3-4671-46c4-989f-a46dfb72cd38",
   "metadata": {},
   "outputs": [
    {
     "name": "stdout",
     "output_type": "stream",
     "text": [
      "89\n",
      "95\n",
      "98\n",
      "78\n",
      "99\n"
     ]
    }
   ],
   "source": [
    "i=0\n",
    "while i<len(marks):\n",
    "    print(marks[i])\n",
    "    i=i+1"
   ]
  },
  {
   "cell_type": "code",
   "execution_count": 33,
   "id": "1c0e50fe-43e5-4e2b-92c6-c212c20f33fa",
   "metadata": {},
   "outputs": [
    {
     "name": "stdout",
     "output_type": "stream",
     "text": [
      "[]\n"
     ]
    }
   ],
   "source": [
    "marks.clear()\n",
    "print(marks)"
   ]
  },
  {
   "cell_type": "code",
   "execution_count": null,
   "id": "e45e9379-406e-4ed9-9f9f-0a08a709929c",
   "metadata": {},
   "outputs": [],
   "source": []
  },
  {
   "cell_type": "code",
   "execution_count": 34,
   "id": "71f24d84-313b-4734-b0e2-788a9c8c08b8",
   "metadata": {},
   "outputs": [
    {
     "name": "stdout",
     "output_type": "stream",
     "text": [
      "0\n"
     ]
    }
   ],
   "source": [
    "#tuple is immutable,not changable.\n",
    "marks=(96,98,99,99,99)\n",
    "print(marks.count(95))"
   ]
  },
  {
   "cell_type": "code",
   "execution_count": 35,
   "id": "40dbda3a-9ad3-4314-b362-089780f64592",
   "metadata": {},
   "outputs": [
    {
     "name": "stdout",
     "output_type": "stream",
     "text": [
      "2\n"
     ]
    }
   ],
   "source": [
    "print(marks.index(99))"
   ]
  },
  {
   "cell_type": "code",
   "execution_count": 36,
   "id": "e135647a-117f-4e46-885e-7fb3770b211b",
   "metadata": {},
   "outputs": [],
   "source": [
    "#[]-list\n",
    "#()-tuple-not changable\n",
    "#{}-set-index exist nhi krta,values repeat nhi hoti,only unique values,unordered cz index nhi hota\n"
   ]
  },
  {
   "cell_type": "code",
   "execution_count": 37,
   "id": "eb961082-c2ca-4066-abae-3102b7277574",
   "metadata": {},
   "outputs": [
    {
     "name": "stdout",
     "output_type": "stream",
     "text": [
      "{89, 67, 99}\n"
     ]
    }
   ],
   "source": [
    "marks={67,99,99,89,67}\n",
    "print(marks)"
   ]
  },
  {
   "cell_type": "code",
   "execution_count": 38,
   "id": "fbc9dbe4-334a-46c3-9243-ab3252b707ec",
   "metadata": {},
   "outputs": [
    {
     "name": "stdout",
     "output_type": "stream",
     "text": [
      "90\n"
     ]
    }
   ],
   "source": [
    "marks={\"english\":98,\"chemistry\":90}\n",
    "print(marks[\"chemistry\"])"
   ]
  },
  {
   "cell_type": "code",
   "execution_count": 39,
   "id": "c968b552-29f8-4489-a5cf-39d5616ceb97",
   "metadata": {},
   "outputs": [
    {
     "name": "stdout",
     "output_type": "stream",
     "text": [
      "{'english': 98, 'chemistry': 90, 'physics': 97}\n"
     ]
    }
   ],
   "source": [
    "marks[\"physics\"]=97\n",
    "print(marks)"
   ]
  },
  {
   "cell_type": "code",
   "execution_count": 40,
   "id": "ffbb9e85-879d-450e-bd21-8ea6010c03d5",
   "metadata": {},
   "outputs": [
    {
     "name": "stdout",
     "output_type": "stream",
     "text": [
      "{'english': 98, 'chemistry': 90, 'physics': 99}\n"
     ]
    }
   ],
   "source": [
    "marks[\"physics\"]=99\n",
    "print(marks)"
   ]
  },
  {
   "cell_type": "code",
   "execution_count": 41,
   "id": "c3f52dc6-4498-4953-b853-4edd2af55def",
   "metadata": {},
   "outputs": [],
   "source": [
    "#functions "
   ]
  },
  {
   "cell_type": "code",
   "execution_count": 69,
   "id": "573d4611-32cb-48ef-ab5c-da4972b8ace4",
   "metadata": {},
   "outputs": [
    {
     "name": "stdout",
     "output_type": "stream",
     "text": [
      "['__doc__', '__file__', '__loader__', '__name__', '__package__', '__spec__', 'acos', 'acosh', 'asin', 'asinh', 'atan', 'atan2', 'atanh', 'cbrt', 'ceil', 'comb', 'copysign', 'cos', 'cosh', 'degrees', 'dist', 'e', 'erf', 'erfc', 'exp', 'exp2', 'expm1', 'fabs', 'factorial', 'floor', 'fmod', 'frexp', 'fsum', 'gamma', 'gcd', 'hypot', 'inf', 'isclose', 'isfinite', 'isinf', 'isnan', 'isqrt', 'lcm', 'ldexp', 'lgamma', 'log', 'log10', 'log1p', 'log2', 'modf', 'nan', 'nextafter', 'perm', 'pi', 'pow', 'prod', 'radians', 'remainder', 'sin', 'sinh', 'sqrt', 'tan', 'tanh', 'tau', 'trunc', 'ulp']\n"
     ]
    }
   ],
   "source": [
    "import math\n",
    "print(dir(math))"
   ]
  },
  {
   "cell_type": "code",
   "execution_count": 45,
   "id": "ef38f4b8-1741-4f7c-990f-3b812c422c45",
   "metadata": {},
   "outputs": [
    {
     "name": "stdout",
     "output_type": "stream",
     "text": [
      "2.0\n"
     ]
    }
   ],
   "source": [
    "print(sqrt(4))"
   ]
  },
  {
   "cell_type": "code",
   "execution_count": 46,
   "id": "70101bb2-bb6e-4009-85cd-75dd825aa969",
   "metadata": {},
   "outputs": [
    {
     "name": "stdout",
     "output_type": "stream",
     "text": [
      "5\n"
     ]
    }
   ],
   "source": [
    "def print_sum(first,second=4):\n",
    "    print(first+second)\n",
    "\n",
    "print_sum(1)"
   ]
  },
  {
   "cell_type": "code",
   "execution_count": 47,
   "id": "45235140-2281-4263-8384-ea4767e53ff7",
   "metadata": {},
   "outputs": [
    {
     "name": "stdout",
     "output_type": "stream",
     "text": [
      "good morning\n"
     ]
    }
   ],
   "source": [
    "def greet():\n",
    "    print(\"good morning\")\n",
    "\n",
    "greet()"
   ]
  },
  {
   "cell_type": "code",
   "execution_count": 48,
   "id": "24ae76f2-d063-4508-8335-3a905cb33205",
   "metadata": {},
   "outputs": [
    {
     "name": "stdin",
     "output_type": "stream",
     "text": [
      "enter your name shalu\n"
     ]
    },
    {
     "name": "stdout",
     "output_type": "stream",
     "text": [
      "happy birthdayshalu\n"
     ]
    }
   ],
   "source": [
    "def wish():\n",
    "    name=input(\"enter your name\")\n",
    "    print(\"happy birthday\"+name)\n",
    "\n",
    "\n",
    "wish()\n"
   ]
  },
  {
   "cell_type": "code",
   "execution_count": 49,
   "id": "0fdb751f-6b1a-4b06-be79-f604ee901d76",
   "metadata": {},
   "outputs": [
    {
     "name": "stdout",
     "output_type": "stream",
     "text": [
      "LMAOOOO\n",
      "LMAOOOO\n",
      "LMAOOOO\n",
      "LMAOOOO\n",
      "LMAOOOO\n",
      "LMAOOOO\n",
      "LMAOOOO\n",
      "LMAOOOO\n",
      "LMAOOOO\n",
      "LMAOOOO\n"
     ]
    }
   ],
   "source": [
    "def good():\n",
    "    print(\"LMAOOOO\")\n",
    "\n",
    "for i in range(0,10):\n",
    "    good()\n",
    "    i=i+1"
   ]
  },
  {
   "cell_type": "code",
   "execution_count": 50,
   "id": "f8bc32c2-1847-416c-b1b7-72d5e7735d19",
   "metadata": {},
   "outputs": [
    {
     "name": "stdin",
     "output_type": "stream",
     "text": [
      "enter the number 6\n",
      "enter the number 8\n",
      "enter the number 8\n"
     ]
    },
    {
     "name": "stdout",
     "output_type": "stream",
     "text": [
      "22\n"
     ]
    }
   ],
   "source": [
    "def sum(a,b,c):\n",
    "    print(int(a)+int(b)+int(c))\n",
    "\n",
    "A=input(\"enter the number\")\n",
    "B=input(\"enter the number\")\n",
    "C=input(\"enter the number\")\n",
    "sum(A,B,C)"
   ]
  },
  {
   "cell_type": "code",
   "execution_count": 51,
   "id": "52317f03-efaa-46ce-9837-dd96b21ab9f7",
   "metadata": {},
   "outputs": [
    {
     "name": "stdin",
     "output_type": "stream",
     "text": [
      " 4\n",
      " 4\n",
      " 4\n",
      " 4\n"
     ]
    },
    {
     "name": "stdout",
     "output_type": "stream",
     "text": [
      "[[0, 0, 0], [0, 0, 1], [0, 0, 3], [0, 0, 4], [0, 1, 0], [0, 1, 2], [0, 1, 3], [0, 1, 4], [0, 2, 1], [0, 2, 2], [0, 2, 3], [0, 2, 4], [0, 3, 0], [0, 3, 1], [0, 3, 2], [0, 3, 3], [0, 3, 4], [0, 4, 0], [0, 4, 1], [0, 4, 2], [0, 4, 3], [0, 4, 4], [1, 0, 0], [1, 0, 2], [1, 0, 3], [1, 0, 4], [1, 1, 1], [1, 1, 2], [1, 1, 3], [1, 1, 4], [1, 2, 0], [1, 2, 1], [1, 2, 2], [1, 2, 3], [1, 2, 4], [1, 3, 0], [1, 3, 1], [1, 3, 2], [1, 3, 3], [1, 3, 4], [1, 4, 0], [1, 4, 1], [1, 4, 2], [1, 4, 3], [1, 4, 4], [2, 0, 1], [2, 0, 2], [2, 0, 3], [2, 0, 4], [2, 1, 0], [2, 1, 1], [2, 1, 2], [2, 1, 3], [2, 1, 4], [2, 2, 0], [2, 2, 1], [2, 2, 2], [2, 2, 3], [2, 2, 4], [2, 3, 0], [2, 3, 1], [2, 3, 2], [2, 3, 3], [2, 3, 4], [2, 4, 0], [2, 4, 1], [2, 4, 2], [2, 4, 3], [2, 4, 4], [3, 0, 0], [3, 0, 1], [3, 0, 2], [3, 0, 3], [3, 0, 4], [3, 1, 0], [3, 1, 1], [3, 1, 2], [3, 1, 3], [3, 1, 4], [3, 2, 0], [3, 2, 1], [3, 2, 2], [3, 2, 3], [3, 2, 4], [3, 3, 0], [3, 3, 1], [3, 3, 2], [3, 3, 3], [3, 3, 4], [3, 4, 0], [3, 4, 1], [3, 4, 2], [3, 4, 3], [3, 4, 4], [4, 0, 0], [4, 0, 1], [4, 0, 2], [4, 0, 3], [4, 0, 4], [4, 1, 0], [4, 1, 1], [4, 1, 2], [4, 1, 3], [4, 1, 4], [4, 2, 0], [4, 2, 1], [4, 2, 2], [4, 2, 3], [4, 2, 4], [4, 3, 0], [4, 3, 1], [4, 3, 2], [4, 3, 3], [4, 3, 4], [4, 4, 0], [4, 4, 1], [4, 4, 2], [4, 4, 3], [4, 4, 4]]\n"
     ]
    }
   ],
   "source": [
    "    x = int(input())\n",
    "    y = int(input())\n",
    "    z = int(input())\n",
    "    n = int(input())\n",
    "    print([[i,j,k] for i in range (x+1) for j in range (y+1) for k in range (z+1)if i+j+k!=2 ])\n",
    "    "
   ]
  },
  {
   "cell_type": "code",
   "execution_count": 52,
   "id": "86234cab-ffb2-4b29-987c-b6c2c1c14a9d",
   "metadata": {},
   "outputs": [
    {
     "name": "stdout",
     "output_type": "stream",
     "text": [
      "True\n"
     ]
    }
   ],
   "source": [
    "x=True\n",
    "y=False\n",
    "print(x or y)"
   ]
  },
  {
   "cell_type": "code",
   "execution_count": 53,
   "id": "180e843e-8e81-4bf8-bdeb-e5117d42e7d0",
   "metadata": {},
   "outputs": [
    {
     "name": "stdout",
     "output_type": "stream",
     "text": [
      "False\n"
     ]
    }
   ],
   "source": [
    "print(x and y)"
   ]
  },
  {
   "cell_type": "code",
   "execution_count": 54,
   "id": "75671109-7834-4368-96b9-91d86cf69a50",
   "metadata": {},
   "outputs": [
    {
     "name": "stdout",
     "output_type": "stream",
     "text": [
      "True\n"
     ]
    }
   ],
   "source": [
    "print(not y)"
   ]
  },
  {
   "cell_type": "code",
   "execution_count": 55,
   "id": "3f1e5e8a-2f71-4fe6-a35e-31ea273e59eb",
   "metadata": {},
   "outputs": [
    {
     "name": "stdout",
     "output_type": "stream",
     "text": [
      "2\n"
     ]
    }
   ],
   "source": [
    "#bitwise operators\n",
    "x=2\n",
    "y=3\n",
    "print(x&y)"
   ]
  },
  {
   "cell_type": "code",
   "execution_count": 56,
   "id": "616e6867-ddc1-483d-ad3d-fc0afbc283d4",
   "metadata": {},
   "outputs": [
    {
     "name": "stdout",
     "output_type": "stream",
     "text": [
      "3\n"
     ]
    }
   ],
   "source": [
    "print(x|y)"
   ]
  },
  {
   "cell_type": "code",
   "execution_count": 57,
   "id": "70ffd4c8-572a-4531-ae77-5b1e04220576",
   "metadata": {},
   "outputs": [
    {
     "name": "stdout",
     "output_type": "stream",
     "text": [
      "0\n"
     ]
    }
   ],
   "source": [
    "print(x>>2)"
   ]
  },
  {
   "cell_type": "code",
   "execution_count": 58,
   "id": "b9545f2a-e08d-46ef-86f7-94c7627b9f17",
   "metadata": {},
   "outputs": [
    {
     "name": "stdout",
     "output_type": "stream",
     "text": [
      "24\n"
     ]
    }
   ],
   "source": [
    "print(y<<3)"
   ]
  },
  {
   "cell_type": "code",
   "execution_count": 59,
   "id": "c7acc006-8ad8-46bd-956e-f22c0d411fb4",
   "metadata": {},
   "outputs": [
    {
     "name": "stdout",
     "output_type": "stream",
     "text": [
      "3\n"
     ]
    }
   ],
   "source": [
    "a=3#assignment operator\n",
    "print(a)"
   ]
  },
  {
   "cell_type": "code",
   "execution_count": 60,
   "id": "b6448eac-6021-422d-a744-95d8da23d7e2",
   "metadata": {},
   "outputs": [
    {
     "name": "stdout",
     "output_type": "stream",
     "text": [
      "True\n"
     ]
    }
   ],
   "source": [
    "#identity operator\n",
    "a=3\n",
    "b=3\n",
    "print(a is b)"
   ]
  },
  {
   "cell_type": "code",
   "execution_count": 61,
   "id": "ec864f28-7806-419e-bb21-677203d67008",
   "metadata": {},
   "outputs": [
    {
     "name": "stdout",
     "output_type": "stream",
     "text": [
      "False\n"
     ]
    }
   ],
   "source": [
    "a=[1,2,3]\n",
    "b=[1,2,3]\n",
    "print(a is b)"
   ]
  },
  {
   "cell_type": "code",
   "execution_count": 62,
   "id": "29b83de8-f5a0-4ea1-9228-2bd83d87d65b",
   "metadata": {},
   "outputs": [
    {
     "name": "stdout",
     "output_type": "stream",
     "text": [
      "True\n"
     ]
    }
   ],
   "source": [
    "a=\"hello-world\"\n",
    "b=\"hello-world\"\n",
    "print(a is not b)"
   ]
  },
  {
   "cell_type": "code",
   "execution_count": 63,
   "id": "9798c228-8a80-4647-be04-191a6089a716",
   "metadata": {},
   "outputs": [
    {
     "name": "stdout",
     "output_type": "stream",
     "text": [
      "True\n"
     ]
    }
   ],
   "source": [
    "x=\"delhi\"#membership operators\n",
    "print(\"d\"in x)"
   ]
  },
  {
   "cell_type": "code",
   "execution_count": 64,
   "id": "892aa9b5-d188-42ec-ac56-e259320522fb",
   "metadata": {},
   "outputs": [
    {
     "name": "stdin",
     "output_type": "stream",
     "text": [
      "apna email bta shalus\n"
     ]
    },
    {
     "name": "stdout",
     "output_type": "stream",
     "text": [
      "email galat h shi likho\n"
     ]
    }
   ],
   "source": [
    "#correct email= campusx@gmail\n",
    "#password-1234\n",
    "\n",
    "email=input(\"apna email bta\")\n",
    "if'@'in email:\n",
    "    \n",
    "    password=input(\"apna password bta\")\n",
    "    if email== \"campusx@gmail.com\" and password==\"1234\":\n",
    "        print(\"welcome\")\n",
    "    \n",
    "    elif email==\"campusx@gmail.com\" and password!=\"1234\":\n",
    "        print(\"PASSWORD INCORRECT\")\n",
    "        password=input(\"password fir s bol\")\n",
    "        if password==\"1234\":\n",
    "            print(\"finally correct\")\n",
    "        else:\n",
    "            print(\"still incorrect\")\n",
    "    \n",
    "    else:\n",
    "        print(\"incorrect credential\")\n",
    "\n",
    "else:\n",
    "    print(\"email galat h shi likho\")"
   ]
  },
  {
   "cell_type": "code",
   "execution_count": 65,
   "id": "f798fc18-af10-40d3-81b4-28fe8762be41",
   "metadata": {},
   "outputs": [
    {
     "data": {
      "text/plain": [
       "[1, 2, 3, 4, 5, 6, 7, 8, 9, 10]"
      ]
     },
     "execution_count": 65,
     "metadata": {},
     "output_type": "execute_result"
    }
   ],
   "source": [
    "#range function\n",
    "list(range(1,11))"
   ]
  },
  {
   "cell_type": "code",
   "execution_count": 66,
   "id": "1025e45c-904f-4181-aebe-ee8f5fc10f8a",
   "metadata": {},
   "outputs": [
    {
     "data": {
      "text/plain": [
       "[0, 1, 2, 3, 4, 5, 6, 7, 8, 9, 10, 11, 12, 13, 14]"
      ]
     },
     "execution_count": 66,
     "metadata": {},
     "output_type": "execute_result"
    }
   ],
   "source": [
    "list(range(15))"
   ]
  },
  {
   "cell_type": "code",
   "execution_count": 67,
   "id": "ac14cd36-89d3-48af-a415-fe65c84050fe",
   "metadata": {},
   "outputs": [
    {
     "data": {
      "text/plain": [
       "[1, 3, 5, 7, 9]"
      ]
     },
     "execution_count": 67,
     "metadata": {},
     "output_type": "execute_result"
    }
   ],
   "source": [
    "list(range(1,11,2))"
   ]
  },
  {
   "cell_type": "code",
   "execution_count": 68,
   "id": "72f3cc24-20bb-4a17-9bc0-6bc8042176e0",
   "metadata": {},
   "outputs": [
    {
     "data": {
      "text/plain": [
       "[10, 9, 8, 7, 6, 5, 4, 3, 2, 1]"
      ]
     },
     "execution_count": 68,
     "metadata": {},
     "output_type": "execute_result"
    }
   ],
   "source": [
    "list(range(10,0,-1))"
   ]
  },
  {
   "cell_type": "markdown",
   "id": "b6e8defc-d34a-4917-94ca-586e690e07ea",
   "metadata": {},
   "source": [
    "built- in functions\n"
   ]
  },
  {
   "cell_type": "code",
   "execution_count": 80,
   "id": "e2accca3-c429-4a3b-9fe0-ec485bf64f5d",
   "metadata": {},
   "outputs": [
    {
     "data": {
      "text/plain": [
       "4"
      ]
     },
     "execution_count": 80,
     "metadata": {},
     "output_type": "execute_result"
    }
   ],
   "source": [
    "abs(-4)#gives the absolute value"
   ]
  },
  {
   "cell_type": "code",
   "execution_count": 81,
   "id": "967eb091-1ba5-49e1-b704-617d99f48c8e",
   "metadata": {},
   "outputs": [
    {
     "data": {
      "text/plain": [
       "8.0"
      ]
     },
     "execution_count": 81,
     "metadata": {},
     "output_type": "execute_result"
    }
   ],
   "source": [
    "pow(2,3)# 2 ki power 3"
   ]
  },
  {
   "cell_type": "code",
   "execution_count": 82,
   "id": "aa6b83c1-d06c-4f41-aa28-2af02e3fdedb",
   "metadata": {},
   "outputs": [
    {
     "data": {
      "text/plain": [
       "'a'"
      ]
     },
     "execution_count": 82,
     "metadata": {},
     "output_type": "execute_result"
    }
   ],
   "source": [
    "min([2,1,3,0])\n",
    "min(\"kolkata\")"
   ]
  },
  {
   "cell_type": "code",
   "execution_count": 83,
   "id": "4fbe6df6-2333-4a6d-b46b-d75485415168",
   "metadata": {},
   "outputs": [
    {
     "data": {
      "text/plain": [
       "3.143"
      ]
     },
     "execution_count": 83,
     "metadata": {},
     "output_type": "execute_result"
    }
   ],
   "source": [
    "c=22/7\n",
    "round(c,3)#round off the decimal place to 3\n"
   ]
  },
  {
   "cell_type": "code",
   "execution_count": 84,
   "id": "20f0fb99-6707-43bf-b376-b935ae1f063a",
   "metadata": {},
   "outputs": [
    {
     "data": {
      "text/plain": [
       "(2, 1)"
      ]
     },
     "execution_count": 84,
     "metadata": {},
     "output_type": "execute_result"
    }
   ],
   "source": [
    "divmod(5,2)#phlaa integer division ka result (5//2)\n",
    "#dusra modulus devision ka result (5%2)"
   ]
  },
  {
   "cell_type": "code",
   "execution_count": 86,
   "id": "8d6c1f70-3c7e-48d7-b945-522d056fb859",
   "metadata": {},
   "outputs": [
    {
     "data": {
      "text/plain": [
       "'0b100'"
      ]
     },
     "execution_count": 86,
     "metadata": {},
     "output_type": "execute_result"
    }
   ],
   "source": [
    "bin(4)#binary code  deta  h.\n"
   ]
  },
  {
   "cell_type": "code",
   "execution_count": 88,
   "id": "a49b8733-ff0a-4b6e-b0cd-ba7fe4c36c0a",
   "metadata": {},
   "outputs": [
    {
     "data": {
      "text/plain": [
       "138200162372968"
      ]
     },
     "execution_count": 88,
     "metadata": {},
     "output_type": "execute_result"
    }
   ],
   "source": [
    "a=3\n",
    "id(a)#memory address"
   ]
  },
  {
   "cell_type": "code",
   "execution_count": 95,
   "id": "81ae0d04-3e2b-4daa-a533-ed19897075b9",
   "metadata": {},
   "outputs": [
    {
     "data": {
      "text/plain": [
       "99"
      ]
     },
     "execution_count": 95,
     "metadata": {},
     "output_type": "execute_result"
    }
   ],
   "source": [
    "ord('c')#ascii values give krta h\n"
   ]
  },
  {
   "cell_type": "code",
   "execution_count": 96,
   "id": "3d5fbfb6-cf4f-4ec5-ae14-022e728e8766",
   "metadata": {},
   "outputs": [
    {
     "data": {
      "text/plain": [
       "7"
      ]
     },
     "execution_count": 96,
     "metadata": {},
     "output_type": "execute_result"
    }
   ],
   "source": [
    "len(\"kolkata\")#length deta h\n"
   ]
  },
  {
   "cell_type": "code",
   "execution_count": 101,
   "id": "6e76d6aa-fe46-4803-aff5-81506478e666",
   "metadata": {},
   "outputs": [],
   "source": [
    "#modules"
   ]
  },
  {
   "cell_type": "code",
   "execution_count": 97,
   "id": "dabe745a-1506-418e-b4ed-b815bf9be1eb",
   "metadata": {},
   "outputs": [
    {
     "name": "stdout",
     "output_type": "stream",
     "text": [
      "\n",
      "Please wait a moment while I gather a list of all available modules...\n",
      "\n"
     ]
    },
    {
     "name": "stderr",
     "output_type": "stream",
     "text": [
      "/usr/lib/python3.11/pkgutil.py:92: UserWarning: The numpy.array_api submodule is still experimental. See NEP 47.\n",
      "  __import__(info.name)\n",
      "/usr/lib/python3.11/site-packages/_distutils_hack/__init__.py:33: UserWarning: Setuptools is replacing distutils.\n",
      "  warnings.warn(\"Setuptools is replacing distutils.\")\n"
     ]
    },
    {
     "name": "stdout",
     "output_type": "stream",
     "text": [
      "IPython             asyncore            jsonpointer         reprlib\n",
      "PIL                 atexit              jsonschema          requests\n",
      "Reflector           attr                jsonschema_specifications resource\n",
      "__future__          attrs               jupyter             rich\n",
      "__hello__           audioop             jupyter_client      rlcompleter\n",
      "__phello__          autocommand         jupyter_core        rpds\n",
      "_abc                avahi               jupyter_events      runpy\n",
      "_aix_support        babel               jupyter_server      sched\n",
      "_argon2_cffi_bindings base64              jupyterlab          scipy\n",
      "_ast                bdb                 jupyterlab_pygments seaborn\n",
      "_asyncio            binascii            jupyterlab_server   secrets\n",
      "_bisect             bisect              keyword             select\n",
      "_blake2             bleach              kiwisolver          selectors\n",
      "_blueman            blueman             ldb                 send2trash\n",
      "_bootsubprocess     boost               lib2to3             serial\n",
      "_bz2                brlapi              libmount            setuptools\n",
      "_cffi_backend       bs4                 libnvme             shelve\n",
      "_codecs             btrfsutil           libxml2             shiboken2\n",
      "_codecs_cn          builtins            libxml2mod          shiboken2_generator\n",
      "_codecs_hk          bytesize            libxslt             shlex\n",
      "_codecs_iso2022     bz2                 libxsltmod          shutil\n",
      "_codecs_jp          cProfile            linecache           signal\n",
      "_codecs_kr          caca                lirc                site\n",
      "_codecs_tw          cairo               locale              six\n",
      "_collections        calendar            logging             sklearn\n",
      "_collections_abc    cffi                louis               smtpd\n",
      "_compat_pickle      cgi                 lxml                smtplib\n",
      "_compression        cgitb               lzma                snack\n",
      "_contextvars        charset_normalizer  mailbox             sndhdr\n",
      "_crypt              chunk               mailcap             sniffio\n",
      "_csv                click               markdown_it         socket\n",
      "_ctypes             cloudinit           markupsafe          socketserver\n",
      "_ctypes_test        cmath               marshal             soupsieve\n",
      "_curses             cmd                 math                spwd\n",
      "_curses_panel       code                matplotlib          sqlite3\n",
      "_datetime           codecs              matplotlib_inline   sre_compile\n",
      "_dbm                codeop              mdurl               sre_constants\n",
      "_decimal            collections         meld                sre_parse\n",
      "_distutils_hack     colorama            mimetypes           ssl\n",
      "_elementtree        colorsys            mistune             stack_data\n",
      "_ftdi1              comm                mmap                stat\n",
      "_functools          compileall          modulefinder        statistics\n",
      "_gdbm               concurrent          more_itertools      string\n",
      "_hashlib            configobj           multiprocessing     stringprep\n",
      "_heapq              configparser        nbclient            struct\n",
      "_imp                contextlib          nbconvert           subprocess\n",
      "_io                 contextvars         nbformat            sunau\n",
      "_json               contourpy           nest_asyncio        symtable\n",
      "_ldb_text           copy                netifaces           sys\n",
      "_locale             copyreg             netrc               sysconfig\n",
      "_lsprof             crypt               nftables            syslog\n",
      "_lzma               cryptography        nis                 tabnanny\n",
      "_markupbase         csv                 nntplib             talloc\n",
      "_md5                ctypes              notebook            tarfile\n",
      "_multibytecodec     curses              notebook_shim       tdb\n",
      "_multiprocessing    cycler              ntpath              telnetlib\n",
      "_opcode             dataclasses         nturl2path          tempfile\n",
      "_operator           datetime            numbers             termios\n",
      "_osx_support        dateutil            numpy               tevent\n",
      "_pickle             dbm                 oauthlib            textwrap\n",
      "_posixshmem         decimal             opcode              this\n",
      "_posixsubprocess    decorator           operator            threading\n",
      "_py_abc             defusedxml          optparse            threadpoolctl\n",
      "_pydecimal          difflib             ordered_set         time\n",
      "_pyio               dis                 os                  timeit\n",
      "_pyrsistent_version distutils           ossaudiodev         tinycss2\n",
      "_queue              docopt              overrides           tkinter\n",
      "_random             doctest             packaging           token\n",
      "_ruamel_yaml        drv_libxml2         pandas              tokenize\n",
      "_sha1               email               pandocfilters       tomli\n",
      "_sha256             encodings           parso               tomllib\n",
      "_sha3               ensurepip           pathlib             tornado\n",
      "_sha512             enum                pdb                 trace\n",
      "_signal             errno               pexpect             traceback\n",
      "_sitebuiltins       executing           pickle              tracemalloc\n",
      "_snack              fastjsonschema      pickletools         traitlets\n",
      "_socket             faulthandler        pip                 trashcli\n",
      "_sqlite3            fcntl               pipes               trove_classifiers\n",
      "_sre                filecmp             pkg_resources       tty\n",
      "_ssl                fileinput           pkgutil             turtle\n",
      "_stat               fnmatch             platform            turtledemo\n",
      "_statistics         fontTools           platformdirs        types\n",
      "_string             fractions           plist               typing\n",
      "_strptime           ftdi1               plistlib            typing_extensions\n",
      "_struct             ftplib              ply                 uc_micro\n",
      "_symtable           functools           pooch               ueberzug\n",
      "_sysconfigdata__linux_x86_64-linux-gnu gc                  poplib              unicodedata\n",
      "_tdb_text           genericpath         posix               unittest\n",
      "_testbuffer         getopt              posixpath           urllib\n",
      "_testcapi           getpass             pprint              urllib3\n",
      "_testclinic         gettext             profile             uu\n",
      "_testimportmultiple gi                  prometheus_client   uuid\n",
      "_testinternalcapi   glob                prompt_toolkit      validate\n",
      "_testmultiphase     graphlib            pstats              validate_pyproject\n",
      "_tevent             grp                 psutil              venv\n",
      "_thread             gzip                pty                 warnings\n",
      "_threading_local    hashlib             ptyprocess          wave\n",
      "_tkinter            heapq               pure_eval           wcwidth\n",
      "_tokenize           hmac                pvectorc            weakref\n",
      "_tracemalloc        html                pwd                 webbrowser\n",
      "_typing             http                py_compile          webencodings\n",
      "_uuid               idlelib             pyclbr              websocket\n",
      "_warnings           idna                pycparser           wheel\n",
      "_weakref            imaplib             pydantic            wsgiref\n",
      "_weakrefset         imath               pydantic_core       xcbgen\n",
      "_xxsubinterpreters  imghdr              pydoc               xdrlib\n",
      "_xxtestfuzz         imobiledevice       pydoc_data          xml\n",
      "_yaml               imp                 pyexpat             xmlrpc\n",
      "_zoneinfo           importlib           pygments            xxlimited\n",
      "abc                 importlib_metadata  pygtkcompat         xxlimited_35\n",
      "aifc                inflect             pylab               xxsubtype\n",
      "annotated_types     inspect             pyparsing           yaml\n",
      "antigravity         io                  pyrsistent          zbar\n",
      "anyio               ipaddress           pythonjsonlogger    zipapp\n",
      "argcomplete         ipykernel           pytz                zipfile\n",
      "argon2              ipykernel_launcher  pywal               zipimport\n",
      "argparse            itertools           queue               zipp\n",
      "array               jedi                quopri              zlib\n",
      "ast                 jinja2              random              zmq\n",
      "asttokens           joblib              ranger              zoneinfo\n",
      "async_lru           json                re                  \n",
      "asynchat            json5               readline            \n",
      "asyncio             jsonpatch           referencing         \n",
      "\n",
      "Enter any module name to get more help.  Or, type \"modules spam\" to search\n",
      "for modules whose name or summary contain the string \"spam\".\n",
      "\n"
     ]
    }
   ],
   "source": [
    "help('modules')"
   ]
  },
  {
   "cell_type": "code",
   "execution_count": 98,
   "id": "cef3bbc8-6cd0-470e-baf4-eff2a19e14f0",
   "metadata": {},
   "outputs": [
    {
     "data": {
      "text/plain": [
       "3.141592653589793"
      ]
     },
     "execution_count": 98,
     "metadata": {},
     "output_type": "execute_result"
    }
   ],
   "source": [
    "import math\n",
    "math.pi"
   ]
  },
  {
   "cell_type": "code",
   "execution_count": 99,
   "id": "c16cbfcb-3a55-414e-b57e-40fd51fc9896",
   "metadata": {},
   "outputs": [
    {
     "data": {
      "text/plain": [
       "2.718281828459045"
      ]
     },
     "execution_count": 99,
     "metadata": {},
     "output_type": "execute_result"
    }
   ],
   "source": [
    "math.e"
   ]
  },
  {
   "cell_type": "code",
   "execution_count": 100,
   "id": "42ba7111-5db1-499e-abd1-9a0dd7bed62e",
   "metadata": {},
   "outputs": [
    {
     "data": {
      "text/plain": [
       "120"
      ]
     },
     "execution_count": 100,
     "metadata": {},
     "output_type": "execute_result"
    }
   ],
   "source": [
    "math.factorial(5)"
   ]
  },
  {
   "cell_type": "code",
   "execution_count": 103,
   "id": "2ccba7c5-33d0-45cd-8777-4e036bf09135",
   "metadata": {},
   "outputs": [
    {
     "data": {
      "text/plain": [
       "6"
      ]
     },
     "execution_count": 103,
     "metadata": {},
     "output_type": "execute_result"
    }
   ],
   "source": [
    "math.floor(6.9)"
   ]
  },
  {
   "cell_type": "code",
   "execution_count": 105,
   "id": "683974d6-0d26-41bf-b3f3-069ec39abd64",
   "metadata": {},
   "outputs": [],
   "source": [
    "import random"
   ]
  },
  {
   "cell_type": "code",
   "execution_count": 106,
   "id": "7dfd04d7-1d51-4095-a6be-bbc8aa2ba5c5",
   "metadata": {},
   "outputs": [
    {
     "data": {
      "text/plain": [
       "40"
      ]
     },
     "execution_count": 106,
     "metadata": {},
     "output_type": "execute_result"
    }
   ],
   "source": [
    "random.randint(1,100)"
   ]
  },
  {
   "cell_type": "code",
   "execution_count": 110,
   "id": "e5fe7141-383d-4feb-8c4b-3e2aaa93bb87",
   "metadata": {},
   "outputs": [
    {
     "data": {
      "text/plain": [
       "[4, 2, 1, 3]"
      ]
     },
     "execution_count": 110,
     "metadata": {},
     "output_type": "execute_result"
    }
   ],
   "source": [
    "a=[1,2,3,4]\n",
    "random.shuffle(a)\n",
    "a"
   ]
  },
  {
   "cell_type": "code",
   "execution_count": 114,
   "id": "d0301ea1-aaff-4dd8-82e7-dd8e0b412941",
   "metadata": {},
   "outputs": [
    {
     "data": {
      "text/plain": [
       "1707635937.918707"
      ]
     },
     "execution_count": 114,
     "metadata": {},
     "output_type": "execute_result"
    }
   ],
   "source": [
    "import time\n",
    "time.time()"
   ]
  },
  {
   "cell_type": "code",
   "execution_count": 115,
   "id": "5214c8d9-9da4-40f9-ac9e-8f2b3b33a627",
   "metadata": {},
   "outputs": [
    {
     "data": {
      "text/plain": [
       "'Sun Feb 11 12:49:06 2024'"
      ]
     },
     "execution_count": 115,
     "metadata": {},
     "output_type": "execute_result"
    }
   ],
   "source": [
    "time.ctime()"
   ]
  },
  {
   "cell_type": "code",
   "execution_count": 116,
   "id": "47ef144a-27e2-424d-b845-36aae53f5908",
   "metadata": {},
   "outputs": [
    {
     "name": "stdout",
     "output_type": "stream",
     "text": [
      "hello\n",
      "world\n"
     ]
    }
   ],
   "source": [
    "print(\"hello\")\n",
    "time.sleep(100)\n",
    "print(\"world\")"
   ]
  },
  {
   "cell_type": "code",
   "execution_count": 117,
   "id": "2a0fb948-afed-4dfd-80ba-76041d255ab1",
   "metadata": {},
   "outputs": [
    {
     "data": {
      "text/plain": [
       "'/home/shaluchan/Shalu/learning_ML/INNOGEEKS'"
      ]
     },
     "execution_count": 117,
     "metadata": {},
     "output_type": "execute_result"
    }
   ],
   "source": [
    "import os\n",
    "os.getcwd()"
   ]
  },
  {
   "cell_type": "code",
   "execution_count": 119,
   "id": "6719374d-775e-47d3-a46c-cdca6b982627",
   "metadata": {},
   "outputs": [
    {
     "name": "stdout",
     "output_type": "stream",
     "text": [
      "sh\n"
     ]
    }
   ],
   "source": [
    "c=\"shalu\"\n",
    "print(c[0:2])"
   ]
  },
  {
   "cell_type": "code",
   "execution_count": null,
   "id": "8d2eb817-6c00-4c16-84a7-30aeea5da447",
   "metadata": {},
   "outputs": [],
   "source": []
  }
 ],
 "metadata": {
  "kernelspec": {
   "display_name": "Python 3 (ipykernel)",
   "language": "python",
   "name": "python3"
  },
  "language_info": {
   "codemirror_mode": {
    "name": "ipython",
    "version": 3
   },
   "file_extension": ".py",
   "mimetype": "text/x-python",
   "name": "python",
   "nbconvert_exporter": "python",
   "pygments_lexer": "ipython3",
   "version": "3.11.6"
  }
 },
 "nbformat": 4,
 "nbformat_minor": 5
}
